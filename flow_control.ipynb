{
 "cells": [
  {
   "cell_type": "markdown",
   "metadata": {},
   "source": [
    "# Flow Control"
   ]
  },
  {
   "attachments": {},
   "cell_type": "markdown",
   "metadata": {},
   "source": [
    "## If Statements"
   ]
  },
  {
   "attachments": {},
   "cell_type": "markdown",
   "metadata": {},
   "source": [
    "run some code if a value in a variable is greater than 10"
   ]
  },
  {
   "cell_type": "code",
   "execution_count": 16,
   "metadata": {},
   "outputs": [
    {
     "name": "stdout",
     "output_type": "stream",
     "text": [
      "something else\n",
      "Some other code\n",
      "eat something okay\n"
     ]
    }
   ],
   "source": [
    "x = 0\n",
    "if x > 10:\n",
    "    print(\"The if statement was true\")\n",
    "    print(\"another line\")\n",
    "    y = 10\n",
    "    print(y)\n",
    "elif x !=0:\n",
    "    print(\"the elif statement was correct\")\n",
    "elif x > -20:\n",
    "    print(\"something else\")\n",
    "else:\n",
    "    print(\"the code that will run if the statement is false\")\n",
    "print(\"Some other code\")\n",
    "\n",
    "\n",
    "money_available = 16\n",
    "# if money is greater or equal than 80 -> eat something fancy\n",
    "if money_available >= 80:\n",
    "    print('eat something fancy')\n",
    "#  if money greater than 45 -> eat something nice\n",
    "elif money_available > 45:\n",
    "    print(\"eat something nice\")\n",
    "# if money greater than 15 -> eat something okay\n",
    "elif money_available > 15:\n",
    "    print(\"eat something okay\")\n",
    "# else -> eat something cheap\n",
    "else:\n",
    "    print(\"eat something cheap\")"
   ]
  },
  {
   "attachments": {},
   "cell_type": "markdown",
   "metadata": {},
   "source": [
    "## Combining conditions\n",
    "And + or\n",
    "if 5< 1 and 'e' in 'hello or 10 != 4\n",
    "\n",
    "And - For a condition to be true as a whole all parts have to be true this has to be true and this has to be true\n",
    "\n",
    "Or - Only 1 of the parts of the or has to be true - this has to be true or this has to be true"
   ]
  },
  {
   "cell_type": "code",
   "execution_count": 3,
   "metadata": {},
   "outputs": [
    {
     "name": "stdout",
     "output_type": "stream",
     "text": [
      "True\n",
      "True\n"
     ]
    }
   ],
   "source": [
    "if True:\n",
    "    print('True')\n",
    "\n",
    "# Below won't be true as both sides of the and need to be true\n",
    "if True and False:\n",
    "    print('True')\n",
    "\n",
    "if True or False:\n",
    "    print('True')"
   ]
  },
  {
   "cell_type": "code",
   "execution_count": 6,
   "metadata": {},
   "outputs": [
    {
     "name": "stdout",
     "output_type": "stream",
     "text": [
      "Eat something fancy\n"
     ]
    }
   ],
   "source": [
    "money_available = 100\n",
    "hungry = False\n",
    "bored = True\n",
    "\n",
    "if money_available > 80 and hungry == True or bored == True:\n",
    "    print(\"Eat something fancy\")"
   ]
  },
  {
   "attachments": {},
   "cell_type": "markdown",
   "metadata": {},
   "source": [
    "## Nesting if statements"
   ]
  },
  {
   "cell_type": "markdown",
   "metadata": {},
   "source": []
  },
  {
   "cell_type": "code",
   "execution_count": 9,
   "metadata": {},
   "outputs": [
    {
     "name": "stdout",
     "output_type": "stream",
     "text": [
      "a is in the list\n",
      "it is a letter\n",
      "something\n"
     ]
    }
   ],
   "source": [
    "x = 'a'\n",
    "\n",
    "if x in ['a','b', 1]:\n",
    "    print('a is in the list')\n",
    "    if 'a'.isalpha():\n",
    "        print('it is a letter')\n",
    "    if True:\n",
    "        print('something')"
   ]
  },
  {
   "attachments": {},
   "cell_type": "markdown",
   "metadata": {},
   "source": [
    "You can also writ if statements for 'Truthy' variables without the == True or == False"
   ]
  },
  {
   "cell_type": "code",
   "execution_count": 13,
   "metadata": {},
   "outputs": [
    {
     "name": "stdout",
     "output_type": "stream",
     "text": [
      "I have enough money\n",
      "and I am hungry\n",
      "Eat something fancy\n"
     ]
    }
   ],
   "source": [
    "money_available = 100\n",
    "hungry = True\n",
    "bored = True\n",
    "\n",
    "if money_available > 80:\n",
    "    print(\"I have enough money\")\n",
    "    if hungry:\n",
    "        print(\"and I am hungry\")\n",
    "        if bored:\n",
    "            print('Eat something fancy')"
   ]
  },
  {
   "attachments": {},
   "cell_type": "markdown",
   "metadata": {},
   "source": [
    "## Match case"
   ]
  },
  {
   "attachments": {},
   "cell_type": "markdown",
   "metadata": {},
   "source": [
    "Match case is somewhat similar to if\n",
    "You run code if a condition is True\n",
    "Match case is better to check for one value out of a a long list\n",
    "\n",
    "```\n",
    "if 'hungry':\n",
    "    code\n",
    "elif 'tired':\n",
    "    code\n",
    "elif 'bored':\n",
    "    code\n",
    "```\n",
    "\n",
    "The above code can be replaced with the following match code:\n",
    "\n",
    "```\n",
    "match mood:\n",
    "    case 'hungry':\n",
    "        code\n",
    "    case 'tired':\n",
    "        code\n",
    "    case 'bored':\n",
    "        code\n",
    "```\n",
    "\n",
    "In the match case the code `case _:` is the same as `else` in an if statement"
   ]
  },
  {
   "cell_type": "code",
   "execution_count": 16,
   "metadata": {},
   "outputs": [
    {
     "name": "stdout",
     "output_type": "stream",
     "text": [
      "get some sleep\n"
     ]
    }
   ],
   "source": [
    "mood = 'tired'\n",
    "\n",
    "if mood == 'hungry':\n",
    "    print('get some food')\n",
    "\n",
    "match mood:\n",
    "    case 'hungry':\n",
    "        print('get some food')\n",
    "    case 'thirsty':\n",
    "        print('get some water')\n",
    "    case 'tired':\n",
    "        print('get some sleep')\n",
    "    case _:\n",
    "        print('any other mood')"
   ]
  },
  {
   "cell_type": "code",
   "execution_count": 21,
   "metadata": {},
   "outputs": [
    {
     "name": "stdout",
     "output_type": "stream",
     "text": [
      "Unkown grade\n"
     ]
    }
   ],
   "source": [
    "grade = 'something else'\n",
    "\n",
    "match grade:\n",
    "    case 1:\n",
    "        print('Very Good')\n",
    "    case 2:\n",
    "        print('good')\n",
    "    case 3:\n",
    "        print('OK')\n",
    "    case 4:\n",
    "        print('Bad')\n",
    "    case 5:\n",
    "        print('Very Bad')\n",
    "    case _:\n",
    "        print('Unkown grade')"
   ]
  },
  {
   "attachments": {},
   "cell_type": "markdown",
   "metadata": {},
   "source": [
    "## While loop"
   ]
  },
  {
   "attachments": {},
   "cell_type": "markdown",
   "metadata": {},
   "source": [
    "Repeat code as long as condition is True\n",
    "\n",
    "```\n",
    "while True:\n",
    "    print('infinte loop')"
   ]
  },
  {
   "cell_type": "code",
   "execution_count": 2,
   "metadata": {},
   "outputs": [
    {
     "name": "stdout",
     "output_type": "stream",
     "text": [
      "loop 1\n",
      "loop 2\n",
      "loop 3\n",
      "loop 4\n",
      "loop 5\n",
      "x is 5\n",
      "loop 6\n",
      "loop 7\n",
      "loop 8\n",
      "loop 9\n",
      "loop 10\n"
     ]
    }
   ],
   "source": [
    "x = 0\n",
    "while x < 10:\n",
    "    x += 1\n",
    "    print(f\"loop {x}\")\n",
    "\n",
    "    if x == 5:\n",
    "        print('x is 5')"
   ]
  },
  {
   "attachments": {},
   "cell_type": "markdown",
   "metadata": {},
   "source": [
    "### Break and Continue\n",
    "\n",
    "break => this will stop the code when called in the code below when x = 5 the loop will stop\n",
    "```\n",
    "x = 0\n",
    "while x<10:\n",
    "    x+=1\n",
    "    if x==5:\n",
    "        break\n",
    "    print('loop')\n",
    "```\n",
    "\n",
    "continue => will skip an iteration of the while loop in the code below it will skip loop 5\n",
    "\n",
    "```\n",
    "x = 0\n",
    "while x<10:\n",
    "    x+=1\n",
    "    if x == 5:\n",
    "        continue\n",
    "    print(f\"loop {x}\")\n",
    "```\n"
   ]
  },
  {
   "cell_type": "code",
   "execution_count": 9,
   "metadata": {},
   "outputs": [
    {
     "name": "stdout",
     "output_type": "stream",
     "text": [
      "loop 1\n",
      "loop 2\n",
      "loop 3\n",
      "loop 4\n",
      "\n",
      "\n",
      "loop 1\n",
      "loop 2\n",
      "loop 3\n",
      "loop 4\n",
      "loop 6\n",
      "loop 7\n",
      "loop 8\n",
      "loop 9\n",
      "loop 10\n"
     ]
    }
   ],
   "source": [
    "x = 0\n",
    "while x<10:\n",
    "    x+=1\n",
    "    if x==5:\n",
    "        break\n",
    "    print(f'loop {x}')\n",
    "\n",
    "print('\\n')\n",
    "x = 0\n",
    "while x <10:\n",
    "    x+=1\n",
    "    if x == 5:\n",
    "        continue\n",
    "    print(f\"loop {x}\")"
   ]
  },
  {
   "cell_type": "code",
   "execution_count": 24,
   "metadata": {},
   "outputs": [
    {
     "name": "stdout",
     "output_type": "stream",
     "text": [
      "[0, 2, 4, 6, 8, 10, 12, 14, 16, 18, 20, 22, 24, 26, 28, 30, 32, 34, 36, 38, 40, 42, 44, 46, 48, 50, 52, 54, 56, 60, 62, 64, 66, 68, 70, 72, 74, 76, 78, 80, 82, 84, 86, 88, 90, 92, 94, 96, 98]\n"
     ]
    }
   ],
   "source": [
    "# use a while loop to create a list with only even values from 0 to 100\n",
    "\n",
    "counter= 0\n",
    "even_numbers = []\n",
    "\n",
    "while counter<100:\n",
    "    if counter % 2 == 0:\n",
    "        if counter != 58:\n",
    "            even_numbers.append(counter)\n",
    "    counter+=1\n",
    "\n",
    "print(even_numbers)\n"
   ]
  },
  {
   "attachments": {},
   "cell_type": "markdown",
   "metadata": {},
   "source": [
    "## For loop\n",
    "\n",
    "Run code for every item inside of a container only works on iterrables i.e. lists, tuples, dict, string, ranges\n",
    "\n",
    "```\n",
    "for x in [1,2,3]:\n",
    "    print(x)\n",
    "```\n"
   ]
  },
  {
   "cell_type": "code",
   "execution_count": 33,
   "metadata": {},
   "outputs": [
    {
     "name": "stdout",
     "output_type": "stream",
     "text": [
      "basic list\n",
      "1\n",
      "2\n",
      "3\n",
      "basic set\n",
      "1\n",
      "2\n",
      "3\n",
      "basic dict\n",
      "1\n",
      "2\n",
      "3\n",
      "basic dict.items\n",
      "(1, 'one')\n",
      "(2, 'two')\n",
      "(3, 'three')\n",
      "basic string\n",
      "O\n",
      "n\n",
      "e\n",
      " \n",
      "t\n",
      "w\n",
      "o\n",
      " \n",
      "t\n",
      "h\n",
      "r\n",
      "e\n",
      "e\n",
      "basic range\n",
      "0\n",
      "1\n",
      "2\n"
     ]
    }
   ],
   "source": [
    "basic_list = [1,2,3]\n",
    "basic_tuple = (1,2,3)\n",
    "basic_dict = {1: 'one', 2: 'two', 3: 'three'}\n",
    "basic_set = {1,2,3}\n",
    "basic_string = 'One two three'\n",
    "basic_num = 3\n",
    "\n",
    "print('basic list')\n",
    "for x in basic_list:\n",
    "    print(x)\n",
    "print('basic set')\n",
    "for x in basic_set:\n",
    "    print(x)\n",
    "print('basic dict')\n",
    "# will only print key\n",
    "for x in basic_dict:\n",
    "    print(x)\n",
    "print('basic dict.items')\n",
    "# will print the key value pair\n",
    "for x in basic_dict.items():\n",
    "    print(x)\n",
    "print('basic string')\n",
    "for x in basic_string:\n",
    "    print(x)\n",
    "print('basic range')\n",
    "for x in range(basic_num):\n",
    "    print(x)"
   ]
  },
  {
   "cell_type": "code",
   "execution_count": 38,
   "metadata": {},
   "outputs": [
    {
     "name": "stdout",
     "output_type": "stream",
     "text": [
      "10\n",
      "40\n",
      "20\n",
      "42\n",
      "12\n"
     ]
    }
   ],
   "source": [
    "# use a for loop to only print the numbers below 50\n",
    "# skip values below 10\n",
    "# end the entire loop if a value is above 100\n",
    "\n",
    "practice_list = [[10,40,20,50], [2,42,12],[101,10,4]]\n",
    "\n",
    "for sub_list in practice_list:\n",
    "    for item in sub_list:\n",
    "        if item > 100:\n",
    "            break \n",
    "        if item < 10:\n",
    "            continue\n",
    "        if item < 50:\n",
    "            print(item)\n",
    "        \n"
   ]
  },
  {
   "attachments": {},
   "cell_type": "markdown",
   "metadata": {},
   "source": [
    "## Flow  + Linebreaks\n",
    "\n",
    "You can write code after the colon instead of the next line with an indentation\n",
    "\n",
    "```\n",
    "for x in ([1,2,3]):\n",
    "    print(x)\n",
    "```\n",
    "\n",
    "can be also written on one line like\n",
    "\n",
    "`for x in ([1,2,3]): print(x)` \n",
    "\n",
    "match case can be written also as follows:\n",
    "```\n",
    "grade = 'something else'\n",
    "\n",
    "match grade:\n",
    "    case 1:print('Very Good')\n",
    "    case 2:print('good')\n",
    "    case 3:print('OK')\n",
    "    case 4:print('Bad')\n",
    "    case 5:print('Very Bad')\n",
    "    case _:print('Unkown grade')\n",
    "```"
   ]
  },
  {
   "attachments": {},
   "cell_type": "markdown",
   "metadata": {},
   "source": [
    "### Ternary operator\n",
    "\n",
    "Ternary operator logic\n",
    "\n",
    "True value `if` expression `else` False value \n",
    "\n",
    "```\n",
    "x = 5\n",
    "\n",
    "if x <5:\n",
    "    color='blue'\n",
    "else:\n",
    "    color='red'\n",
    "```\n",
    "can be written with the ternary operator as:\n",
    "\n",
    "` color = 'blue' if x < 5 else 'red'`\n",
    "\n"
   ]
  },
  {
   "cell_type": "code",
   "execution_count": 41,
   "metadata": {},
   "outputs": [
    {
     "name": "stdout",
     "output_type": "stream",
     "text": [
      "blue\n",
      "The color is blue\n",
      "['blue', 'yello', 'green']\n"
     ]
    }
   ],
   "source": [
    "# ternary operator\n",
    "x = 5\n",
    "color = 'red' if x < 5 else 'blue'\n",
    "print(color)\n",
    "\n",
    "# with f strings\n",
    "print(f'The color is {\"red\" if x < 5 else \"blue\"}')\n",
    "\n",
    "# with lists\n",
    "a = ['red' if x < 5 else 'blue', 'yello', 'green']\n",
    "print(a)\n"
   ]
  }
 ],
 "metadata": {
  "kernelspec": {
   "display_name": "Python 3",
   "language": "python",
   "name": "python3"
  },
  "language_info": {
   "codemirror_mode": {
    "name": "ipython",
    "version": 3
   },
   "file_extension": ".py",
   "mimetype": "text/x-python",
   "name": "python",
   "nbconvert_exporter": "python",
   "pygments_lexer": "ipython3",
   "version": "3.11.1 (v3.11.1:a7a450f84a, Dec  6 2022, 15:24:06) [Clang 13.0.0 (clang-1300.0.29.30)]"
  },
  "orig_nbformat": 4,
  "vscode": {
   "interpreter": {
    "hash": "aee8b7b246df8f9039afb4144a1f6fd8d2ca17a180786b69acc140d282b71a49"
   }
  }
 },
 "nbformat": 4,
 "nbformat_minor": 2
}
