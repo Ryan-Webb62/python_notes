{
 "cells": [
  {
   "cell_type": "markdown",
   "metadata": {},
   "source": [
    "# Flow Control"
   ]
  },
  {
   "attachments": {},
   "cell_type": "markdown",
   "metadata": {},
   "source": [
    "## If Statements"
   ]
  },
  {
   "attachments": {},
   "cell_type": "markdown",
   "metadata": {},
   "source": [
    "run some code if a value in a variable is greater than 10"
   ]
  },
  {
   "cell_type": "code",
   "execution_count": 16,
   "metadata": {},
   "outputs": [
    {
     "name": "stdout",
     "output_type": "stream",
     "text": [
      "something else\n",
      "Some other code\n",
      "eat something okay\n"
     ]
    }
   ],
   "source": [
    "x = 0\n",
    "if x > 10:\n",
    "    print(\"The if statement was true\")\n",
    "    print(\"another line\")\n",
    "    y = 10\n",
    "    print(y)\n",
    "elif x !=0:\n",
    "    print(\"the elif statement was correct\")\n",
    "elif x > -20:\n",
    "    print(\"something else\")\n",
    "else:\n",
    "    print(\"the code that will run if the statement is false\")\n",
    "print(\"Some other code\")\n",
    "\n",
    "\n",
    "money_available = 16\n",
    "# if money is greater or equal than 80 -> eat something fancy\n",
    "if money_available >= 80:\n",
    "    print('eat something fancy')\n",
    "#  if money greater than 45 -> eat something nice\n",
    "elif money_available > 45:\n",
    "    print(\"eat something nice\")\n",
    "# if money greater than 15 -> eat something okay\n",
    "elif money_available > 15:\n",
    "    print(\"eat something okay\")\n",
    "# else -> eat something cheap\n",
    "else:\n",
    "    print(\"eat something cheap\")"
   ]
  },
  {
   "attachments": {},
   "cell_type": "markdown",
   "metadata": {},
   "source": [
    "## Combining conditions\n",
    "And + or\n",
    "if 5< 1 and 'e' in 'hello or 10 != 4\n",
    "\n",
    "And - For a condition to be true as a whole all parts have to be true this has to be true and this has to be true\n",
    "\n",
    "Or - Only 1 of the parts of the or has to be true - this has to be true or this has to be true"
   ]
  },
  {
   "cell_type": "code",
   "execution_count": 3,
   "metadata": {},
   "outputs": [
    {
     "name": "stdout",
     "output_type": "stream",
     "text": [
      "True\n",
      "True\n"
     ]
    }
   ],
   "source": [
    "if True:\n",
    "    print('True')\n",
    "\n",
    "# Below won't be true as both sides of the and need to be true\n",
    "if True and False:\n",
    "    print('True')\n",
    "\n",
    "if True or False:\n",
    "    print('True')"
   ]
  },
  {
   "cell_type": "code",
   "execution_count": 6,
   "metadata": {},
   "outputs": [
    {
     "name": "stdout",
     "output_type": "stream",
     "text": [
      "Eat something fancy\n"
     ]
    }
   ],
   "source": [
    "money_available = 100\n",
    "hungry = False\n",
    "bored = True\n",
    "\n",
    "if money_available > 80 and hungry == True or bored == True:\n",
    "    print(\"Eat something fancy\")"
   ]
  },
  {
   "attachments": {},
   "cell_type": "markdown",
   "metadata": {},
   "source": [
    "## Nesting if statements"
   ]
  },
  {
   "cell_type": "markdown",
   "metadata": {},
   "source": []
  },
  {
   "cell_type": "code",
   "execution_count": 9,
   "metadata": {},
   "outputs": [
    {
     "name": "stdout",
     "output_type": "stream",
     "text": [
      "a is in the list\n",
      "it is a letter\n",
      "something\n"
     ]
    }
   ],
   "source": [
    "x = 'a'\n",
    "\n",
    "if x in ['a','b', 1]:\n",
    "    print('a is in the list')\n",
    "    if 'a'.isalpha():\n",
    "        print('it is a letter')\n",
    "    if True:\n",
    "        print('something')"
   ]
  },
  {
   "attachments": {},
   "cell_type": "markdown",
   "metadata": {},
   "source": [
    "You can also writ if statements for 'Truthy' variables without the == True or == False"
   ]
  },
  {
   "cell_type": "code",
   "execution_count": 13,
   "metadata": {},
   "outputs": [
    {
     "name": "stdout",
     "output_type": "stream",
     "text": [
      "I have enough money\n",
      "and I am hungry\n",
      "Eat something fancy\n"
     ]
    }
   ],
   "source": [
    "money_available = 100\n",
    "hungry = True\n",
    "bored = True\n",
    "\n",
    "if money_available > 80:\n",
    "    print(\"I have enough money\")\n",
    "    if hungry:\n",
    "        print(\"and I am hungry\")\n",
    "        if bored:\n",
    "            print('Eat something fancy')"
   ]
  },
  {
   "attachments": {},
   "cell_type": "markdown",
   "metadata": {},
   "source": [
    "## Match case"
   ]
  },
  {
   "attachments": {},
   "cell_type": "markdown",
   "metadata": {},
   "source": [
    "Match case is somewhat similar to if\n",
    "You run code if a condition is True\n",
    "Match case is better to check for one value out of a a long list\n",
    "\n",
    "```\n",
    "if 'hungry':\n",
    "    code\n",
    "elif 'tired':\n",
    "    code\n",
    "elif 'bored':\n",
    "    code\n",
    "```\n",
    "\n",
    "The above code can be replaced with the following match code:\n",
    "\n",
    "```\n",
    "match mood:\n",
    "    case 'hungry':\n",
    "        code\n",
    "    case 'tired':\n",
    "        code\n",
    "    case 'bored':\n",
    "        code\n",
    "```\n",
    "\n",
    "In the match case the code `case _:` is the same as `else` in an if statement"
   ]
  },
  {
   "cell_type": "code",
   "execution_count": 16,
   "metadata": {},
   "outputs": [
    {
     "name": "stdout",
     "output_type": "stream",
     "text": [
      "get some sleep\n"
     ]
    }
   ],
   "source": [
    "mood = 'tired'\n",
    "\n",
    "if mood == 'hungry':\n",
    "    print('get some food')\n",
    "\n",
    "match mood:\n",
    "    case 'hungry':\n",
    "        print('get some food')\n",
    "    case 'thirsty':\n",
    "        print('get some water')\n",
    "    case 'tired':\n",
    "        print('get some sleep')\n",
    "    case _:\n",
    "        print('any other mood')"
   ]
  },
  {
   "cell_type": "code",
   "execution_count": 21,
   "metadata": {},
   "outputs": [
    {
     "name": "stdout",
     "output_type": "stream",
     "text": [
      "Unkown grade\n"
     ]
    }
   ],
   "source": [
    "grade = 'something else'\n",
    "\n",
    "match grade:\n",
    "    case 1:\n",
    "        print('Very Good')\n",
    "    case 2:\n",
    "        print('good')\n",
    "    case 3:\n",
    "        print('OK')\n",
    "    case 4:\n",
    "        print('Bad')\n",
    "    case 5:\n",
    "        print('Very Bad')\n",
    "    case _:\n",
    "        print('Unkown grade')"
   ]
  },
  {
   "attachments": {},
   "cell_type": "markdown",
   "metadata": {},
   "source": [
    "## While loop"
   ]
  },
  {
   "attachments": {},
   "cell_type": "markdown",
   "metadata": {},
   "source": [
    "Repeat code as long as condition is True\n",
    "\n",
    "```\n",
    "while True:\n",
    "    print('infinte loop')"
   ]
  },
  {
   "cell_type": "code",
   "execution_count": null,
   "metadata": {},
   "outputs": [],
   "source": []
  }
 ],
 "metadata": {
  "kernelspec": {
   "display_name": "Python 3",
   "language": "python",
   "name": "python3"
  },
  "language_info": {
   "codemirror_mode": {
    "name": "ipython",
    "version": 3
   },
   "file_extension": ".py",
   "mimetype": "text/x-python",
   "name": "python",
   "nbconvert_exporter": "python",
   "pygments_lexer": "ipython3",
   "version": "3.11.1"
  },
  "orig_nbformat": 4,
  "vscode": {
   "interpreter": {
    "hash": "aee8b7b246df8f9039afb4144a1f6fd8d2ca17a180786b69acc140d282b71a49"
   }
  }
 },
 "nbformat": 4,
 "nbformat_minor": 2
}
