{
 "cells": [
  {
   "attachments": {},
   "cell_type": "markdown",
   "metadata": {},
   "source": [
    "# Functions\n",
    "\n",
    "example function set up\n",
    "\n",
    "```\n",
    "def test_function():\n",
    "  print('Hello')\n",
    "  test = 1 + 2\n",
    "  print(test)\n",
    "```\n",
    "Then to call the function use `test_function()`\n"
   ]
  },
  {
   "cell_type": "code",
   "execution_count": 30,
   "metadata": {},
   "outputs": [
    {
     "name": "stdout",
     "output_type": "stream",
     "text": [
      "5\n",
      "7\n"
     ]
    }
   ],
   "source": [
    "def calculator(num1, num2, operation):\n",
    "  if operation == 'add':\n",
    "    result = num1 + num2\n",
    "  if operation == 'subtract':\n",
    "    result = num1 - num2\n",
    "  print(result)\n",
    "\n",
    "calculator(2,3, 'add')\n",
    "calculator(10,3,'subtract')"
   ]
  },
  {
   "attachments": {},
   "cell_type": "markdown",
   "metadata": {},
   "source": [
    "## Keyword parameters\n",
    "\n",
    "```\n",
    "def test_function(arg1, arg2, arg3, arg4):\n",
    "  print(arg1)\n",
    "  print(arg2)\n",
    "  print(arg3)\n",
    "  print(arg4)\n",
    "```\n",
    "You can then call the function using defined arguments:\n",
    "\n",
    "```\n",
    "test_function(\n",
    "  arg4 = 1,\n",
    "  arg2 = 'hello',\n",
    "  arg3 = True,\n",
    "  arg1 = ['1', 2, 'test])\n",
    "```\n",
    "This makes make your code much more readable\n",
    "\n",
    "You can also set default arguments when defining the function:\n",
    "\n",
    "```\n",
    "def test_function(arg1, arg2, arg3, arg4 = 'Argument 4'):\n",
    "  print(arg1)\n",
    "  print(arg2)\n",
    "  print(arg3)\n",
    "  print(arg4)\n",
    "```\n",
    "You would then only have to call 3 of the 4 arguments in the function `test_function(arg1 = 1, arg2 = 'hello', arg3 = True)`"
   ]
  },
  {
   "cell_type": "code",
   "execution_count": 31,
   "metadata": {},
   "outputs": [
    {
     "name": "stdout",
     "output_type": "stream",
     "text": [
      "Hello Alex today is Sunday\n"
     ]
    }
   ],
   "source": [
    "# create greeter function with 3 arguments: person, greet and weekday\n",
    "# person and greet should have default arguments ('Person' for person and 'Hello' for greet)\n",
    "# inside of the function use an f-string to print the greet and the person and also print the weekday\n",
    "# when calling the function, use at least one positional argument and 1 keyward argument\n",
    "\n",
    "def greeter(weekday, person = \"Person\", greet = \"Hello\", ):\n",
    "  print(f\"{greet} {person} today is {weekday}\")\n",
    "\n",
    "greeter('Sunday', person='Alex')"
   ]
  },
  {
   "attachments": {},
   "cell_type": "markdown",
   "metadata": {},
   "source": [
    "## List unpacking\n",
    "\n",
    "When defining a function you can set up an argument for unlimited values with the * before the argument.  This will create a tuple with the values entered.\n",
    "\n"
   ]
  },
  {
   "cell_type": "code",
   "execution_count": 32,
   "metadata": {},
   "outputs": [
    {
     "name": "stdout",
     "output_type": "stream",
     "text": [
      "(1, 2, 3, 4, 5, 'hello', 1, 2, 213, 321, 3, 123, 123, 12)\n",
      "1\n",
      "2\n",
      "3\n",
      "4\n",
      "5\n",
      "hello\n",
      "1\n",
      "2\n",
      "213\n",
      "321\n",
      "3\n",
      "123\n",
      "123\n",
      "12\n"
     ]
    }
   ],
   "source": [
    "def print_all(*arguments):\n",
    "  print(arguments)\n",
    "  # print all arguments\n",
    "  for argument in arguments:\n",
    "    print(argument)\n",
    "\n",
    "print_all(1,2,3,4,5,'hello', 1,2,213,321,3,123,123,12)\n",
    "\n"
   ]
  },
  {
   "attachments": {},
   "cell_type": "markdown",
   "metadata": {},
   "source": [
    "### Keyword unpacking\n",
    "\n",
    "If you use `**arguments` when defining the function you get a key word dictionary of the arguments"
   ]
  },
  {
   "cell_type": "code",
   "execution_count": 33,
   "metadata": {},
   "outputs": [
    {
     "name": "stdout",
     "output_type": "stream",
     "text": [
      "{'arg1': '1', 'arg2': 'test', 'arg3': [1, 2, 3]}\n"
     ]
    }
   ],
   "source": [
    "# keyword unpacking\n",
    "def print_more(**arguments):\n",
    "  print(arguments)\n",
    "\n",
    "print_more(arg1 = '1', arg2 = 'test', arg3 = [1,2,3])"
   ]
  },
  {
   "cell_type": "code",
   "execution_count": 34,
   "metadata": {},
   "outputs": [
    {
     "name": "stdout",
     "output_type": "stream",
     "text": [
      "22\n"
     ]
    }
   ],
   "source": [
    "# create a calculator that prints the sum of an unlimited amount of numbers\n",
    "\n",
    "def unlimited_add(*numbs):\n",
    "  result = sum(numbs)\n",
    "  print(result)\n",
    "\n",
    "unlimited_add(1,4,7,10)"
   ]
  },
  {
   "attachments": {},
   "cell_type": "markdown",
   "metadata": {},
   "source": [
    "## Variables and Scope\n",
    "\n",
    "Functions are supposed to be separate from the rest of the code.  Once the code becomes more complex it is really easy to run out of variable names\n",
    "\n",
    "Variables created inside of a function are only available inside of that function\n",
    "\n",
    "This is called 'local scope'\n",
    "\n",
    "Creating varables outside of the function is called 'global scope'\n",
    "\n",
    "```\n",
    "a = 10\n",
    "\n",
    "def testing_func():\n",
    "  a = 2\n",
    "  print(a)\n",
    "\n",
    "testing_func()\n",
    "```\n",
    "\n",
    "In the above code the print will be 2 because a local variable of a was created and the function will use that value"
   ]
  },
  {
   "cell_type": "code",
   "execution_count": 35,
   "metadata": {},
   "outputs": [
    {
     "name": "stdout",
     "output_type": "stream",
     "text": [
      "2\n"
     ]
    }
   ],
   "source": [
    "a = 10\n",
    "\n",
    "def testing_func():\n",
    "  a = 2\n",
    "  print(a)\n",
    "\n",
    "testing_func()"
   ]
  },
  {
   "attachments": {},
   "cell_type": "markdown",
   "metadata": {},
   "source": [
    "### Rules of scope\n",
    "\n",
    "Every function has its own local scope and every local scope is separate\n",
    "\n",
    "Global variables can be accessed in the local scope but they cannot be changed (or created)\n",
    "\n",
    "You can move between scopes with parameters, global and return but only use it when needed"
   ]
  },
  {
   "cell_type": "code",
   "execution_count": 36,
   "metadata": {},
   "outputs": [
    {
     "name": "stdout",
     "output_type": "stream",
     "text": [
      "2\n",
      "200\n"
     ]
    }
   ],
   "source": [
    "def func1():\n",
    "  capacity = 2\n",
    "  print(capacity)\n",
    "\n",
    "def func2():\n",
    "  capacity = 200\n",
    "  print(capacity)\n",
    "\n",
    "func1()\n",
    "func2()"
   ]
  },
  {
   "cell_type": "code",
   "execution_count": 37,
   "metadata": {},
   "outputs": [
    {
     "name": "stdout",
     "output_type": "stream",
     "text": [
      "12\n",
      "14\n"
     ]
    }
   ],
   "source": [
    "# global variable in the function\n",
    "a = 10\n",
    "\n",
    "def func3():\n",
    "  global a\n",
    "  a += 2\n",
    "  return a\n",
    "  # print(a)\n",
    "\n",
    "# passing the global variable into the function\n",
    "def func4(a):\n",
    "  a += 2\n",
    "  return a\n",
    "  # print(a)\n",
    "\n",
    "print(func3())\n",
    "print(func4(a))"
   ]
  },
  {
   "cell_type": "code",
   "execution_count": 38,
   "metadata": {},
   "outputs": [
    {
     "name": "stdout",
     "output_type": "stream",
     "text": [
      "16\n",
      "True\n"
     ]
    }
   ],
   "source": [
    "#  create 2 global variables called 'multiplier' and has_calculated\n",
    "# multiplier should have any integer and has_calculated should be set to the boolean False\n",
    "\n",
    "# then create a function called multiply_calculator that takes one argument and calculates\n",
    "# the multiplication of that number\n",
    "# inside of the function multiply the parameter with the global variable mulitplier\n",
    "# once the calculation is done set has_calculated to True\n",
    "# store that new number a variable called result and return it \n",
    "# print the return value of the function (after it was called with)\n",
    "\n",
    "multiplier = 4\n",
    "has_calculated = False\n",
    "\n",
    "def multiply_calculator(numb):\n",
    "  global has_calculated\n",
    "  result = numb * multiplier\n",
    "  has_calculated = True\n",
    "  return result\n",
    "\n",
    "print(multiply_calculator(4))\n",
    "print(has_calculated)\n",
    "\n"
   ]
  },
  {
   "attachments": {},
   "cell_type": "markdown",
   "metadata": {},
   "source": [
    "## Lambda\n",
    "\n",
    "Single line functions with the following syntax\n",
    "\n",
    "lambda para: expression\n",
    "\n",
    "lambda functions can be assigned to a variable\n",
    "\n"
   ]
  },
  {
   "cell_type": "code",
   "execution_count": 39,
   "metadata": {},
   "outputs": [
    {
     "name": "stdout",
     "output_type": "stream",
     "text": [
      "11\n",
      "9\n"
     ]
    }
   ],
   "source": [
    "a = lambda x: x + 1\n",
    "\n",
    "print(a(10))\n",
    "\n",
    "simple_calc = lambda a, b: a + b\n",
    "\n",
    "print(simple_calc(4,5))\n"
   ]
  },
  {
   "cell_type": "code",
   "execution_count": 40,
   "metadata": {},
   "outputs": [
    {
     "name": "stdout",
     "output_type": "stream",
     "text": [
      "bye\n",
      "hello\n"
     ]
    }
   ],
   "source": [
    "# create a lambda function that accepts 1 integer argument\n",
    "# if the integer is > 5 return hello\n",
    "# otherwise return bye\n",
    "\n",
    "example_lambda = lambda x: 'hello' if x > 5 else 'bye'\n",
    "\n",
    "print(example_lambda(4))\n",
    "print(example_lambda(7))\n"
   ]
  },
  {
   "attachments": {},
   "cell_type": "markdown",
   "metadata": {},
   "source": [
    "## Documenting Functions\n",
    "\n",
    "Functions can get complicated so you want to explain it\n",
    "\n",
    "You can either add an explainer text this is called a docstring\n",
    "\n",
    "You can also hint at what types of data you expect for the parameters and the return value"
   ]
  },
  {
   "cell_type": "code",
   "execution_count": 41,
   "metadata": {},
   "outputs": [
    {
     "name": "stdout",
     "output_type": "stream",
     "text": [
      "2\n",
      "1\n",
      "A simple function that prints 2 parameters\n",
      "\n",
      "  Args:\n",
      "      a (int):  int to print 1 default is 10\n",
      "      b (int): int to print 2 no default\n",
      "\n",
      "  Returns:\n",
      "      int: sum of a and b\n",
      "  \n",
      "Help on function test in module __main__:\n",
      "\n",
      "test(b: int, a: int = 10)\n",
      "    A simple function that prints 2 parameters\n",
      "    \n",
      "    Args:\n",
      "        a (int):  int to print 1 default is 10\n",
      "        b (int): int to print 2 no default\n",
      "    \n",
      "    Returns:\n",
      "        int: sum of a and b\n",
      "\n"
     ]
    }
   ],
   "source": [
    "def test(b:int,a:int =10):\n",
    "  \"\"\"A simple function that prints 2 parameters\n",
    "\n",
    "  Args:\n",
    "      a (int):  int to print 1 default is 10\n",
    "      b (int): int to print 2 no default\n",
    "\n",
    "  Returns:\n",
    "      int: sum of a and b\n",
    "  \"\"\"\n",
    "  print(a)\n",
    "  print(b)\n",
    "  return a + b\n",
    "\n",
    "test(1,2)\n",
    "print(test.__doc__)\n",
    "help(test)\n",
    "  "
   ]
  },
  {
   "cell_type": "code",
   "execution_count": null,
   "metadata": {},
   "outputs": [],
   "source": []
  }
 ],
 "metadata": {
  "kernelspec": {
   "display_name": "Python 3",
   "language": "python",
   "name": "python3"
  },
  "language_info": {
   "codemirror_mode": {
    "name": "ipython",
    "version": 3
   },
   "file_extension": ".py",
   "mimetype": "text/x-python",
   "name": "python",
   "nbconvert_exporter": "python",
   "pygments_lexer": "ipython3",
   "version": "3.11.0"
  },
  "orig_nbformat": 4,
  "vscode": {
   "interpreter": {
    "hash": "aee8b7b246df8f9039afb4144a1f6fd8d2ca17a180786b69acc140d282b71a49"
   }
  }
 },
 "nbformat": 4,
 "nbformat_minor": 2
}
