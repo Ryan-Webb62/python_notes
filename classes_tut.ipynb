{
 "cells": [
  {
   "attachments": {},
   "cell_type": "markdown",
   "metadata": {},
   "source": [
    "# Objects\n",
    "\n",
    "An object is a container for variables and functions\n",
    "\n",
    "For example, a monster object might contain:\n",
    "Variables for health, energy, stamina, damage, etc..\n",
    "Functions for attack, movement, animations, etc..\n",
    "\n",
    "Naming convention:\n",
    "Variables in an object are called attributes\n",
    "Functions in an object are called methods\n",
    "\n",
    "As you create multiple objects they can have different values for the attributes but not for the methods\n",
    "\n",
    "Example Monster1 health =90, energy =20 Monster2 health =60, energy =40 Monster3 health =40 energy =10\n"
   ]
  },
  {
   "attachments": {},
   "cell_type": "markdown",
   "metadata": {},
   "source": [
    "# Classes\n",
    "\n",
    "A class is the blueprint for an object.  When creating an object we first need a class. A class also accepts arguments to customise the object.\n",
    "\n",
    "Example - the monster class will specify that monsters will have health and energy attributes and methodes for attack and move.  When creating the monster object we could specify the monster has 90 health and 20 energy\n",
    "\n",
    "A class can also inherit from another class.  The resulting objects will have attributes and methods from both classes.\n",
    "\n",
    "Example - the shark class could be created to inherit the health and energy attributes and attack and move methods from the Monster class.  Shark class would then add the speed attribute and the bite methods in addition to the base monster class attributes and methods."
   ]
  },
  {
   "attachments": {},
   "cell_type": "markdown",
   "metadata": {},
   "source": [
    "## Why use classes and objects?\n",
    "1. they organise complex code\n",
    "2. they help to create reusable code\n",
    "3. They are used everywhere\n",
    "4. Some modules require you to create classes\n",
    "5. They make it easier to work with scope\n",
    "\n"
   ]
  },
  {
   "attachments": {},
   "cell_type": "markdown",
   "metadata": {},
   "source": [
    "## Making classes\n",
    "Class names are by convention named with CamelCase\n",
    "\n",
    "All other python naming conventions apply\n",
    "\n",
    "Objects are named in snake_case with the class as CamelCase\n",
    "\n",
    "When creating a method in a class the first argument in each method is automatically a reference to the object that is calling the method so that python can know which instance of the object is calling the method.  When setting up the class you must have a argument in the method to recieve this reference."
   ]
  },
  {
   "cell_type": "code",
   "execution_count": 12,
   "metadata": {},
   "outputs": [
    {
     "name": "stdout",
     "output_type": "stream",
     "text": [
      "90\n",
      "40\n",
      "The monster has attacked!\n",
      "40 damage was dealt\n",
      "20\n",
      "<__main__.Monster object at 0x110ed2450>\n",
      "The monster has moved 25 miles per hour\n"
     ]
    }
   ],
   "source": [
    "# making the class\n",
    "class Monster:\n",
    "    # attributes\n",
    "    health = 90\n",
    "    energy = 40\n",
    "\n",
    "    # methods\n",
    "    def attack(self,amount):\n",
    "        print('The monster has attacked!')\n",
    "        print(f'{amount} damage was dealt')\n",
    "        monster.energy-= 20\n",
    "        print(monster.energy)\n",
    "        print(self)\n",
    "    \n",
    "    def movement(self, speed):\n",
    "        print(f'The monster has moved {speed} miles per hour')\n",
    "\n",
    "# initializing the class into a variable\n",
    "monster = Monster()\n",
    "\n",
    "print(monster.health)\n",
    "print(monster.energy)\n",
    "monster.attack(40)\n",
    "monster.movement(25)"
   ]
  },
  {
   "attachments": {},
   "cell_type": "markdown",
   "metadata": {},
   "source": [
    "## `__Dunder__` methods (double underscore methods)\n",
    "\n",
    "A dunder method is a method that is not called by the user.  Instead, it is called by python when something happens.  `__init__` is called when the object is created.  `__len__` is called when the object is passed into len().  `__abs__` is called when the object is passed into abs().\n",
    "\n",
    "In the example below we can use `__init__` to create the variables of health and energy directly without having to set them up as attributes of the class.\n",
    "\n",
    "`__call__` dunder allows the object to execute a function when called like `monster1()`"
   ]
  },
  {
   "cell_type": "code",
   "execution_count": 7,
   "metadata": {},
   "outputs": [
    {
     "name": "stdout",
     "output_type": "stream",
     "text": [
      "The monster was created\n",
      "The monster was created\n",
      "10\n",
      "50\n",
      "10\n",
      "['__add__', '__call__', '__class__', '__delattr__', '__dict__', '__dir__', '__doc__', '__eq__', '__format__', '__ge__', '__getattribute__', '__getstate__', '__gt__', '__hash__', '__init__', '__init_subclass__', '__le__', '__len__', '__lt__', '__module__', '__ne__', '__new__', '__reduce__', '__reduce_ex__', '__repr__', '__setattr__', '__sizeof__', '__str__', '__subclasshook__', '__weakref__', 'attack', 'energy', 'health', 'movement']\n",
      "{'health': 10, 'energy': 20}\n",
      "The monster was called\n",
      "65\n",
      "a monster with 10 and energy of 20\n"
     ]
    }
   ],
   "source": [
    "# making the class\n",
    "class Monster:\n",
    "  # methods\n",
    "  def __init__(self, health, energy) -> None:\n",
    "    # attributes\n",
    "    self.health = health\n",
    "    self.energy = energy\n",
    "    print('The monster was created')\n",
    "\n",
    "  def __len__(self):\n",
    "    return self.health\n",
    "\n",
    "  def __call__(self):\n",
    "    print('The monster was called')\n",
    "\n",
    "  def __add__(self,other):\n",
    "    return self.health + other\n",
    "  \n",
    "  def __str__(self):\n",
    "    return f'a monster with {self.health} and energy of {self.energy}'\n",
    "\n",
    "  def attack(self,amount):\n",
    "    print('The monster has attacked!')\n",
    "    print(f'{amount} damage was dealt')\n",
    "    monster.energy-= 20\n",
    "    print(monster.energy)\n",
    "  \n",
    "  def movement(self, speed):\n",
    "    print(f'The monster has moved {speed} miles per hour')\n",
    "\n",
    "monster1 = Monster(10,20)\n",
    "monster2 = Monster(50, 100)\n",
    "\n",
    "print(monster1.health)\n",
    "print(monster2.health)\n",
    "\n",
    "print(len(monster1)) # when len is called on a monster object it returns the monster health as defined in the class with __len__\n",
    "\n",
    "print(dir(monster1)) # prints the relevent information about the class and the object\n",
    "\n",
    "print(monster1.__dict__) # prints the dictionary of object attributes\n",
    "\n",
    "monster1()\n",
    "\n",
    "print(monster1 + 55) # the __add__ dunder reacts with this call\n",
    "print(monster1)\n"
   ]
  },
  {
   "attachments": {},
   "cell_type": "markdown",
   "metadata": {},
   "source": [
    "## Classes and methods\n",
    "\n",
    "Everything in python is an object.  Including the inbuilt strings, integers etc.  Even functions are objects!\n",
    "\n",
    "A function and a method both execute a block of code. The difference is that a method belongs to an object\n",
    "\n",
    "example function `len('test')`  example method `test.upper()`\n",
    "\n",
    "In the examples above `len()` can work with strings, lists, tuples, dict, etc. and `.upper()` will only work with strings as strings are objects in python that inhret the `.upper()` method from their class."
   ]
  },
  {
   "cell_type": "code",
   "execution_count": 8,
   "metadata": {},
   "outputs": [
    {
     "name": "stdout",
     "output_type": "stream",
     "text": [
      "['__add__', '__class__', '__contains__', '__delattr__', '__dir__', '__doc__', '__eq__', '__format__', '__ge__', '__getattribute__', '__getitem__', '__getnewargs__', '__getstate__', '__gt__', '__hash__', '__init__', '__init_subclass__', '__iter__', '__le__', '__len__', '__lt__', '__mod__', '__mul__', '__ne__', '__new__', '__reduce__', '__reduce_ex__', '__repr__', '__rmod__', '__rmul__', '__setattr__', '__sizeof__', '__str__', '__subclasshook__', 'capitalize', 'casefold', 'center', 'count', 'encode', 'endswith', 'expandtabs', 'find', 'format', 'format_map', 'index', 'isalnum', 'isalpha', 'isascii', 'isdecimal', 'isdigit', 'isidentifier', 'islower', 'isnumeric', 'isprintable', 'isspace', 'istitle', 'isupper', 'join', 'ljust', 'lower', 'lstrip', 'maketrans', 'partition', 'removeprefix', 'removesuffix', 'replace', 'rfind', 'rindex', 'rjust', 'rpartition', 'rsplit', 'rstrip', 'split', 'splitlines', 'startswith', 'strip', 'swapcase', 'title', 'translate', 'upper', 'zfill']\n"
     ]
    }
   ],
   "source": [
    "test = 'a'\n",
    "# use the dir() function to see what attributes and methods belong to the object\n",
    "print(dir(test))\n"
   ]
  },
  {
   "attachments": {},
   "cell_type": "markdown",
   "metadata": {},
   "source": [
    "### Defining a function and passing it to a class to make a method"
   ]
  },
  {
   "cell_type": "code",
   "execution_count": 9,
   "metadata": {},
   "outputs": [
    {
     "name": "stdout",
     "output_type": "stream",
     "text": [
      "3\n"
     ]
    }
   ],
   "source": [
    "def add(a,b):\n",
    "  return a + b\n",
    "\n",
    "class Test:\n",
    "  def __init__(self, add_function) -> None:\n",
    "    self.add_function = add_function\n",
    "\n",
    "test = Test(add_function=add)\n",
    "print(test.add_function(1,2))"
   ]
  },
  {
   "cell_type": "code",
   "execution_count": 13,
   "metadata": {},
   "outputs": [
    {
     "name": "stdout",
     "output_type": "stream",
     "text": [
      "bite\n",
      "Strike\n",
      "Slash\n",
      "Kick\n"
     ]
    }
   ],
   "source": [
    "# create a Monster class with a parameter called func, store this func as a parameter\n",
    "class PowerMonster:\n",
    "  def __init__(self, add_attack):\n",
    "    self.attack = add_attack\n",
    "# create another class, called Atttacks, that has 4 methods:\n",
    "class Attacks:\n",
    "  def bite(self):\n",
    "    print('bite')\n",
    "  def strike(self):\n",
    "    print('Strike')\n",
    "  def slash(self):\n",
    "    print('Slash')\n",
    "  def kick(self):\n",
    "    print('Kick')\n",
    "# bite , strike, slash, kick (each mothod just prints some text)\n",
    "\n",
    "# create a monster object and give it one of the attack methods from the attack class\n",
    "\n",
    "boss_monster = PowerMonster(add_attack=Attacks())\n",
    "\n",
    "boss_monster.attack.bite()\n",
    "boss_monster.attack.strike()\n",
    "boss_monster.attack.slash()\n",
    "boss_monster.attack.kick()\n"
   ]
  },
  {
   "attachments": {},
   "cell_type": "markdown",
   "metadata": {},
   "source": [
    "## Classes and Scope\n",
    "\n",
    "Since every method has a reference to the clas it is easy to get and change class attributes.\n",
    "\n",
    "Because of that, methods rely much less on parameters, global and return(although you can use it)\n",
    "\n",
    "Objects can even be influenced from the outside and from a local scope of a function!\n",
    "\n",
    "\n",
    "Example scope problem:\n",
    "\n",
    "```\n",
    "def update_health(amount):\n",
    "  health += amount\n",
    "\n",
    "health = 10\n",
    "print(health)\n",
    "update_health(20)\n",
    "print(health)\n",
    "```\n",
    "\n",
    "The above will lead to the error \"local variable 'health' referenced before assignment\".  This is because the function doesn't recognize health as a global variable"
   ]
  },
  {
   "cell_type": "code",
   "execution_count": 19,
   "metadata": {},
   "outputs": [
    {
     "name": "stdout",
     "output_type": "stream",
     "text": [
      "120\n",
      "100\n"
     ]
    }
   ],
   "source": [
    "# Solving Scope problem with classes\n",
    "def update_health(amount):\n",
    "  monster.health += amount\n",
    "\n",
    "class Monster:\n",
    "  def __init__(self, health, energy):\n",
    "    self.health = health\n",
    "    self.set_energy(energy)\n",
    "\n",
    "  def updat_energy(self, amount):\n",
    "    self.energy += amount\n",
    "  \n",
    "  def set_energy(self, energy):\n",
    "    new_energy = energy * 2\n",
    "    self.energy = new_energy\n",
    "\n",
    "monster = Monster(health=100, energy=50)\n",
    "update_health(20)\n",
    "print(monster.health)\n",
    "# monster.updat_energy(20)\n",
    "print(monster.energy)"
   ]
  },
  {
   "cell_type": "code",
   "execution_count": 25,
   "metadata": {},
   "outputs": [
    {
     "name": "stdout",
     "output_type": "stream",
     "text": [
      "100\n",
      "85\n"
     ]
    }
   ],
   "source": [
    "# create a hero class with 2 parameters: damage, monster\n",
    "# the monster class should have a method that lowers the health -> get_damage(amount)\n",
    "# the hero class should have an attack method that calls the get_damage method from the monster\n",
    "# the amount of damage is hero.damage\n",
    "\n",
    "class Hero:\n",
    "  def __init__(self, damage, monster) -> None:\n",
    "    self.damage = damage\n",
    "    self.monster = monster\n",
    "  \n",
    "  def attack(self):\n",
    "    self.monster.get_damage(self.damage)\n",
    "\n",
    "class Monster:\n",
    "  def __init__(self, health, energy):\n",
    "    self.health = health\n",
    "    self.energy = energy\n",
    "  \n",
    "  def get_damage(self,amount):\n",
    "    self.health -= amount\n",
    "\n",
    "monster = Monster(100, 50)\n",
    "hero = Hero(damage=15, monster=monster)\n",
    "print(monster.health)\n",
    "hero.attack()\n",
    "print(monster.health)"
   ]
  },
  {
   "attachments": {},
   "cell_type": "markdown",
   "metadata": {},
   "source": [
    "## Inheritance\n",
    "\n",
    "Inheritance means that 1 clsass gets attributes and methods from another class (or classes)\n",
    "\n",
    "A class can inherit from an unlimited number of other classes\n",
    "\n",
    "A parent class can have an unlimited number of children classes. Example a Monster class with many children like Shark, Dragon, or Goblin classes\n",
    "\n",
    "When defining a new class you can set the inheritance from another class by addinging it in the brackets:\n",
    "```\n",
    "class Shark(Monster):\n",
    "\n",
    "```\n",
    "\n",
    "In this case the Shark class will inherite from the Monster class\n",
    "\n",
    "Overwriting a method from an inherited class you can define a method with the same name to overwrite the parent method.  In the example below the move method in the Shark class overwrites the move method from the Monster class\n",
    "\n",
    "To inherit attributes and methods from the parent class you use the `super()` keyword.  For example you can call `super().__init__` to call the dunder init from the parent class(es).\n",
    "\n",
    "Example below is the Shark class's `__init__` calling the `super().__init__` and feeding the needed arguments to it to set the health and energy.\n",
    "\n",
    "```\n",
    "class Shark(Monster):\n",
    "  def __init__(self, speed, health, energy):\n",
    "    super().__init__(health, energy)\n",
    "    self.speed = speed\n",
    "```\n",
    "\n",
    "\n"
   ]
  },
  {
   "cell_type": "code",
   "execution_count": 30,
   "metadata": {},
   "outputs": [
    {
     "name": "stdout",
     "output_type": "stream",
     "text": [
      "50 100\n",
      "The monster has attacked!\n",
      "20 damage was dealt\n",
      "The shark has moved\n",
      "The speed of the shark is 120\n"
     ]
    }
   ],
   "source": [
    "class Monster:\n",
    "  def __init__(self, health, energy) -> None:\n",
    "    self.health = health \n",
    "    self.energy = energy\n",
    "\n",
    "  def attack(self, amount):\n",
    "    print('The monster has attacked!')\n",
    "    print(f'{amount} damage was dealt')\n",
    "    self.energy -= 20\n",
    "\n",
    "  def move(self, speed):\n",
    "    print('The monster has moved')\n",
    "    print(f'It has a speed of {speed}')\n",
    "\n",
    "class Shark(Monster):\n",
    "  def __init__(self, speed, health, energy):\n",
    "    super().__init__(health, energy)\n",
    "    self.speed = speed\n",
    "  \n",
    "  def bite(self):\n",
    "    print('The shark has bitten')\n",
    "  \n",
    "  def move(self):\n",
    "    print('The shark has moved')\n",
    "    print(f'The speed of the shark is {self.speed}')\n",
    "\n",
    "shark = Shark(speed=120)\n",
    "\n",
    "print(shark.health, shark.energy)\n",
    "shark.attack(20)\n",
    "shark.move()\n"
   ]
  },
  {
   "cell_type": "code",
   "execution_count": 31,
   "metadata": {},
   "outputs": [
    {
     "name": "stdout",
     "output_type": "stream",
     "text": [
      "The scorpion has attacked!\n",
      "300 of poision damage was delt \n"
     ]
    }
   ],
   "source": [
    "# create scorpion class that inherits from monster\n",
    "# health and energy from the parent\n",
    "# poision_damage attribute\n",
    "# overwrite the damage method to show poison damage\n",
    "\n",
    "class Monster:\n",
    "  def __init__(self, health, energy) -> None:\n",
    "    self.health = health \n",
    "    self.energy = energy\n",
    "\n",
    "  def attack(self, amount):\n",
    "    print('The monster has attacked!')\n",
    "    print(f'{amount} damage was dealt')\n",
    "    self.energy -= 20\n",
    "\n",
    "  def move(self, speed):\n",
    "    print('The monster has moved')\n",
    "    print(f'It has a speed of {speed}')\n",
    "\n",
    "class Scorpion(Monster):\n",
    "  def __init__(self, scorpion_health, scorpion_energy, poision_damage) -> None:\n",
    "    super().__init__(health = scorpion_health, energy = scorpion_energy)\n",
    "    self.poision_damage = poision_damage\n",
    "  \n",
    "  def attack(self):\n",
    "    print('The scorpion has attacked!')\n",
    "    print(f'{self.poision_damage} of poision damage was delt ')\n",
    "\n",
    "scorpion = Scorpion(health=90, energy=150, poision_damage=300)\n",
    "scorpion.attack()"
   ]
  },
  {
   "attachments": {},
   "cell_type": "markdown",
   "metadata": {},
   "source": [
    "### Complex inheritance\n",
    "\n",
    "Example:\n",
    "\n",
    "Child class would inherit from both Parent class 1 and Parent class 2\n",
    "\n",
    "MRO -> method resolution order\n",
    "\n",
    "This means the order of the parent classes being called the order is set when defining the class `class Shark(Monster, Fish):` in this example the Shark class will always be first in execution, then the Monster class, and finally the Fish class\n",
    "\n",
    "To make more complex inheritances work you should add `**kwargs` as an argument to all of your classes dunder init methods and pass them into an additional `super().__init__(**kwargs)` this will call the next dunder init method in the MRO and pass any extra arguments to that class's init\n",
    "\n"
   ]
  },
  {
   "cell_type": "code",
   "execution_count": 45,
   "metadata": {},
   "outputs": [
    {
     "name": "stdout",
     "output_type": "stream",
     "text": [
      "The monster has attacked!\n",
      "10 damage was dealt\n",
      "200\n",
      "120\n"
     ]
    }
   ],
   "source": [
    "class Monster:\n",
    "  def __init__(self, health, energy,**kwargs):\n",
    "    self.health = health \n",
    "    self.energy = energy\n",
    "    super().__init__(**kwargs)\n",
    "\n",
    "  def attack(self, amount):\n",
    "    print('The monster has attacked!')\n",
    "    print(f'{amount} damage was dealt')\n",
    "    self.energy -= 20\n",
    "\n",
    "  def move(self, speed):\n",
    "    print('The monster has moved')\n",
    "    print(f'It has a speed of {speed}')\n",
    "\n",
    "class Fish:\n",
    "  def __init__(self,speed, has_scales,**kwargs):\n",
    "    self.speed = speed\n",
    "    self.has_scales = has_scales\n",
    "    super().__init__(**kwargs)\n",
    "  \n",
    "  def swim(self):\n",
    "    print(f'The fish is swimming at a speed of {self.speed}')\n",
    "\n",
    "class Shark(Monster, Fish):\n",
    "  def __init__(self, health, energy, bite_strength, has_scales, speed,):\n",
    "    self.bite_strength = bite_strength\n",
    "    super().__init__(health = health, energy = energy, speed = speed, has_scales = has_scales)\n",
    "\n",
    "shark = Shark(bite_strength=50,health=200, energy=55, has_scales=False, speed=120)\n",
    "\n",
    "shark.attack(10)\n",
    "print(shark.health)\n",
    "print(shark.speed)\n"
   ]
  },
  {
   "attachments": {},
   "cell_type": "markdown",
   "metadata": {},
   "source": [
    "## Other classes information"
   ]
  },
  {
   "attachments": {},
   "cell_type": "markdown",
   "metadata": {},
   "source": [
    "### Private attributes and methods\n",
    "\n",
    "Attributes defined in a class like `self._id = 5` by convention are shouldn't be modified.  This is not prevented in python but is a convention among python programers\n"
   ]
  },
  {
   "attachments": {},
   "cell_type": "markdown",
   "metadata": {},
   "source": [
    "### hasatter\n",
    "\n",
    "To see if a class/object has an attribute you can use the `hasatter(obj, attribute)` function to return a True/False which can then be commonly used with if statements.\n"
   ]
  },
  {
   "attachments": {},
   "cell_type": "markdown",
   "metadata": {},
   "source": [
    "### setattr\n",
    "To set an attribute on an object use `setattr(obj, attribute, value)` syntax\n",
    "\n",
    "It is the same thing as `monster.weapon = 'Sword'`\n",
    "\n",
    "This is usful to itterate over a list or tuple to add attributes"
   ]
  },
  {
   "cell_type": "code",
   "execution_count": 51,
   "metadata": {},
   "outputs": [
    {
     "name": "stdout",
     "output_type": "stream",
     "text": [
      "the monster has 20\n",
      "Sword\n",
      "{'health': 20, 'energy': 10, '_id': 5, 'weapon': 'Axe', 'armor': 'Shield', 'potion': 'mana'}\n",
      " A monster that has some attributes\n",
      "Help on Monster in module __main__ object:\n",
      "\n",
      "class Monster(builtins.object)\n",
      " |  Monster(health, energy) -> None\n",
      " |  \n",
      " |  A monster that has some attributes\n",
      " |  \n",
      " |  Methods defined here:\n",
      " |  \n",
      " |  __init__(self, health, energy) -> None\n",
      " |      Initialize self.  See help(type(self)) for accurate signature.\n",
      " |  \n",
      " |  attack(self, amount)\n",
      " |  \n",
      " |  move(self, speed)\n",
      " |  \n",
      " |  ----------------------------------------------------------------------\n",
      " |  Data descriptors defined here:\n",
      " |  \n",
      " |  __dict__\n",
      " |      dictionary for instance variables (if defined)\n",
      " |  \n",
      " |  __weakref__\n",
      " |      list of weak references to the object (if defined)\n",
      "\n"
     ]
    }
   ],
   "source": [
    "class Monster:\n",
    "  ''' A monster that has some attributes'''\n",
    "  def __init__(self, health, energy) -> None:\n",
    "    self.health = health \n",
    "    self.energy = energy\n",
    "    # private attributes\n",
    "    self._id = 5\n",
    "\n",
    "  def attack(self, amount):\n",
    "    print('The monster has attacked!')\n",
    "    print(f'{amount} damage was dealt')\n",
    "    self.energy -= 20\n",
    "\n",
    "  def move(self, speed):\n",
    "    print('The monster has moved')\n",
    "    print(f'It has a speed of {speed}')\n",
    "\n",
    "monster = Monster(20,10)\n",
    "\n",
    "# hasattr\n",
    "if hasattr(monster, 'health'):\n",
    "  print(f'the monster has {monster.health}')\n",
    "\n",
    "# setatter\n",
    "setattr(monster, 'weapon', 'Sword')\n",
    "\n",
    "print(monster.weapon)\n",
    "\n",
    "new_attributes = (['weapon', 'Axe'], ['armor','Shield'],['potion', 'mana'])\n",
    "\n",
    "for attr, value in new_attributes:\n",
    "  setattr(monster, attr, value)\n",
    "\n",
    "print(vars(monster))\n",
    "\n",
    "# Doc\n",
    "print(monster.__doc__)\n",
    "help(monster)"
   ]
  },
  {
   "cell_type": "code",
   "execution_count": null,
   "metadata": {},
   "outputs": [],
   "source": []
  }
 ],
 "metadata": {
  "kernelspec": {
   "display_name": "Python 3",
   "language": "python",
   "name": "python3"
  },
  "language_info": {
   "codemirror_mode": {
    "name": "ipython",
    "version": 3
   },
   "file_extension": ".py",
   "mimetype": "text/x-python",
   "name": "python",
   "nbconvert_exporter": "python",
   "pygments_lexer": "ipython3",
   "version": "3.11.0"
  },
  "orig_nbformat": 4,
  "vscode": {
   "interpreter": {
    "hash": "aee8b7b246df8f9039afb4144a1f6fd8d2ca17a180786b69acc140d282b71a49"
   }
  }
 },
 "nbformat": 4,
 "nbformat_minor": 2
}
