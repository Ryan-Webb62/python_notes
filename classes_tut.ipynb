{
 "cells": [
  {
   "attachments": {},
   "cell_type": "markdown",
   "metadata": {},
   "source": [
    "# Objects\n",
    "\n",
    "An object is a container for variables and functions\n",
    "\n",
    "For example, a monster object might contain:\n",
    "Variables for health, energy, stamina, damage, etc..\n",
    "Functions for attack, movement, animations, etc..\n",
    "\n",
    "Naming convention:\n",
    "Variables in an object are called attributes\n",
    "Functions in an object are called methods\n",
    "\n",
    "As you create multiple objects they can have different values for the attributes but not for the methods\n",
    "\n",
    "Example Monster1 health =90, energy =20 Monster2 health =60, energy =40 Monster3 health =40 energy =10\n"
   ]
  },
  {
   "attachments": {},
   "cell_type": "markdown",
   "metadata": {},
   "source": [
    "# Classes\n",
    "\n",
    "A class is the blueprint for an object.  When creating an object we first need a class. A class also accepts arguments to customise the object.\n",
    "\n",
    "Example - the monster class will specify that monsters will have health and energy attributes and methodes for attack and move.  When creating the monster object we could specify the monster has 90 health and 20 energy\n",
    "\n",
    "A class can also inherit from another class.  The resulting objects will have attributes and methods from both classes.\n",
    "\n",
    "Example - the shark class could be created to inherit the health and energy attributes and attack and move methods from the Monster class.  Shark class would then add the speed attribute and the bite methods in addition to the base monster class attributes and methods."
   ]
  },
  {
   "attachments": {},
   "cell_type": "markdown",
   "metadata": {},
   "source": [
    "## Why use classes and objects?\n",
    "1. they organise complex code\n",
    "2. they help to create reusable code\n",
    "3. They are used everywhere\n",
    "4. Some modules require you to create classes\n",
    "5. They make it easier to work with scope\n",
    "\n"
   ]
  },
  {
   "attachments": {},
   "cell_type": "markdown",
   "metadata": {},
   "source": [
    "## Making classes\n",
    "Class names are by convention named with CamelCase\n",
    "\n",
    "All other python naming conventions apply\n",
    "\n",
    "Objects are named in snake_case with the class as CamelCase\n",
    "\n",
    "When creating a method in a class the first argument in each method is automatically a reference to the object that is calling the method so that python can know which instance of the object is calling the method.  When setting up the class you must have a argument in the method to recieve this reference."
   ]
  },
  {
   "cell_type": "code",
   "execution_count": 12,
   "metadata": {},
   "outputs": [
    {
     "name": "stdout",
     "output_type": "stream",
     "text": [
      "90\n",
      "40\n",
      "The monster has attacked!\n",
      "40 damage was dealt\n",
      "20\n",
      "<__main__.Monster object at 0x110ed2450>\n",
      "The monster has moved 25 miles per hour\n"
     ]
    }
   ],
   "source": [
    "# making the class\n",
    "class Monster:\n",
    "    # attributes\n",
    "    health = 90\n",
    "    energy = 40\n",
    "\n",
    "    # methods\n",
    "    def attack(self,amount):\n",
    "        print('The monster has attacked!')\n",
    "        print(f'{amount} damage was dealt')\n",
    "        monster.energy-= 20\n",
    "        print(monster.energy)\n",
    "        print(self)\n",
    "    \n",
    "    def movement(self, speed):\n",
    "        print(f'The monster has moved {speed} miles per hour')\n",
    "\n",
    "# initializing the class into a variable\n",
    "monster = Monster()\n",
    "\n",
    "print(monster.health)\n",
    "print(monster.energy)\n",
    "monster.attack(40)\n",
    "monster.movement(25)"
   ]
  },
  {
   "cell_type": "code",
   "execution_count": null,
   "metadata": {},
   "outputs": [],
   "source": []
  }
 ],
 "metadata": {
  "kernelspec": {
   "display_name": "Python 3",
   "language": "python",
   "name": "python3"
  },
  "language_info": {
   "codemirror_mode": {
    "name": "ipython",
    "version": 3
   },
   "file_extension": ".py",
   "mimetype": "text/x-python",
   "name": "python",
   "nbconvert_exporter": "python",
   "pygments_lexer": "ipython3",
   "version": "3.11.1"
  },
  "orig_nbformat": 4,
  "vscode": {
   "interpreter": {
    "hash": "aee8b7b246df8f9039afb4144a1f6fd8d2ca17a180786b69acc140d282b71a49"
   }
  }
 },
 "nbformat": 4,
 "nbformat_minor": 2
}
