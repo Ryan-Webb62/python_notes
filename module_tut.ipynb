{
 "cells": [
  {
   "cell_type": "markdown",
   "metadata": {},
   "source": [
    "# "
   ]
  },
  {
   "attachments": {},
   "cell_type": "markdown",
   "metadata": {},
   "source": [
    "# Modules\n",
    "\n",
    "Modules are extra parts that we can attach to our programs.  Fore example, if we wanted random numbers we would add the random module.  We can also create our own modules (across multiple files) to make the code more organised.\n",
    "\n",
    "Adding extra parts:\n",
    "1. You can import from the python standard library.  These are preinstalled with python.\n",
    "2. You can import additional modules made by other people but those you need to install on your computer first."
   ]
  },
  {
   "attachments": {},
   "cell_type": "markdown",
   "metadata": {},
   "source": [
    "## Python Standard Lib Imports\n",
    "\n",
    "You can import mulitple modules with the following: `import random,string`\n",
    "You can import an object from a module with the following: `from math import floor`\n",
    "You can import an object from a module and rename it with the following `from datetime import datetime as dt`"
   ]
  },
  {
   "cell_type": "code",
   "execution_count": 12,
   "metadata": {},
   "outputs": [
    {
     "name": "stdout",
     "output_type": "stream",
     "text": [
      "7\n",
      "5\n",
      "abcdefghijklmnopqrstuvwxyz\n",
      "0.8414709848078965\n",
      "4\n"
     ]
    }
   ],
   "source": [
    "import random,string \n",
    "from math import floor\n",
    "\n",
    "random_number = random.randint(0,10)\n",
    "\n",
    "print(random_number)\n",
    "\n",
    "test_list = ['hello',False,[1,2,3],4,5,6]\n",
    "\n",
    "print(random.choice(test_list))\n",
    "\n",
    "print(string.ascii_lowercase)\n",
    "\n",
    "print(math.sin(1))\n",
    "\n",
    "print(math.floor(4.9))"
   ]
  },
  {
   "cell_type": "code",
   "execution_count": 14,
   "metadata": {},
   "outputs": [
    {
     "name": "stdout",
     "output_type": "stream",
     "text": [
      "2023-01-03 08:53:58.910633\n"
     ]
    }
   ],
   "source": [
    "# get current time from datetime\n",
    "\n",
    "from datetime import datetime as dt\n",
    "print(dt.now())"
   ]
  },
  {
   "attachments": {},
   "cell_type": "markdown",
   "metadata": {},
   "source": [
    "## External Modules\n",
    "External modules are made by other programmers.  They give us a huge amount of extra functionality.  For example, game development, data analysis, machine learning, graphical user interfaces etc are all functionalities we get from external modules.\n",
    "\n",
    "These modules are imported like the standard modules.  However, we first need to install them. This usually happens in the powershell or the terminal.\n",
    "\n",
    "You use pip or pip3 to install from the terminal with the syntax: `pip3 install pyautogui`\n",
    "\n",
    "You can see what modules are installed with `pip3 list`\n",
    "\n",
    "You can uninstall a package with `pip3 uninstall pyautogui`"
   ]
  },
  {
   "attachments": {},
   "cell_type": "markdown",
   "metadata": {},
   "source": [
    "## Uninstalling All Packages\n",
    "\n",
    "\n",
    "This will work for all Mac, Windows, and Linux systems. To get the list of all pip packages in the requirements.txt file (Note: This will overwrite requirements.txt if exist else will create the new one, also if you don't want to replace old requirements.txt then give different file name in the all following command in place requirements.txt).\n",
    "\n",
    "`pip freeze > requirements.txt`\n",
    "Now to remove one by one\n",
    "\n",
    "`pip uninstall -r requirements.txt`\n",
    "If we want to remove all at once then\n",
    "\n",
    "`pip uninstall -r requirements.txt -y`"
   ]
  },
  {
   "attachments": {},
   "cell_type": "markdown",
   "metadata": {},
   "source": [
    "## Custom Modules\n",
    "\n",
    "The main reason to create your own modules is organization.  Each module is in a seperate file and theat way you never have too much stuff at once."
   ]
  },
  {
   "attachments": {},
   "cell_type": "markdown",
   "metadata": {},
   "source": [
    "## Dunder main\n",
    "\n",
    "When a python file is called it creates a few internal variables.  The most used one is __name__.  The currently executed file `__name__ == '__main__'`\n",
    "\n",
    "Any imported file: `__name__'__filename'`\n",
    "\n",
    "This helps us control what code is executed."
   ]
  },
  {
   "cell_type": "code",
   "execution_count": null,
   "metadata": {},
   "outputs": [],
   "source": []
  }
 ],
 "metadata": {
  "kernelspec": {
   "display_name": "Python 3",
   "language": "python",
   "name": "python3"
  },
  "language_info": {
   "codemirror_mode": {
    "name": "ipython",
    "version": 3
   },
   "file_extension": ".py",
   "mimetype": "text/x-python",
   "name": "python",
   "nbconvert_exporter": "python",
   "pygments_lexer": "ipython3",
   "version": "3.11.1"
  },
  "orig_nbformat": 4,
  "vscode": {
   "interpreter": {
    "hash": "aee8b7b246df8f9039afb4144a1f6fd8d2ca17a180786b69acc140d282b71a49"
   }
  }
 },
 "nbformat": 4,
 "nbformat_minor": 2
}
