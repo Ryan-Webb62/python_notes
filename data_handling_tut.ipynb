{
 "cells": [
  {
   "cell_type": "markdown",
   "metadata": {},
   "source": [
    "# Data Handling"
   ]
  },
  {
   "attachments": {},
   "cell_type": "markdown",
   "metadata": {},
   "source": [
    "## Manipulating lists & for loops\n"
   ]
  },
  {
   "cell_type": "code",
   "execution_count": 2,
   "metadata": {},
   "outputs": [],
   "source": [
    "inventory_names = ['Screws', 'Wheels', 'Metal parts', 'Rubber bits', 'Screwdrivers', 'Wood']\n",
    "inventory_numbers = [43, 12, 95, 421, 23, 43]\n"
   ]
  },
  {
   "attachments": {},
   "cell_type": "markdown",
   "metadata": {},
   "source": [
    "## Zip\n",
    "\n",
    "Zip takes two lists as input and if you add the `list()` can convert the two lists into a list of tuples.  Zip combines the two lists by matching the indexes so the 0 index from list a and the 0 index from list be will be matched in a tuple.\n",
    "\n",
    "The most common use case is to use the new zip list with a for loop.  You can also use python's unpacking of variables feature to store the two values in variables for manipulation."
   ]
  },
  {
   "cell_type": "code",
   "execution_count": 8,
   "metadata": {},
   "outputs": [
    {
     "name": "stdout",
     "output_type": "stream",
     "text": [
      "[('Screws', 43), ('Wheels', 12), ('Metal parts', 95), ('Rubber bits', 421), ('Screwdrivers', 23), ('Wood', 43)]\n",
      "('Screws', 43)\n",
      "('Wheels', 12)\n",
      "('Metal parts', 95)\n",
      "('Rubber bits', 421)\n",
      "('Screwdrivers', 23)\n",
      "('Wood', 43)\n",
      "Screws\n",
      "43\n",
      "Wheels\n",
      "12\n",
      "Metal parts\n",
      "95\n",
      "Rubber bits\n",
      "421\n",
      "Screwdrivers\n",
      "23\n",
      "Wood\n",
      "43\n",
      "Screws current inventory: 43\n",
      "Wheels current inventory: 12\n",
      "Metal parts current inventory: 95\n",
      "Rubber bits current inventory: 421\n",
      "Screwdrivers current inventory: 23\n",
      "Wood current inventory: 43\n"
     ]
    }
   ],
   "source": [
    "print(list(zip(inventory_names,inventory_numbers)))\n",
    "\n",
    "# looping over the zip of the two lists\n",
    "for item in zip(inventory_names, inventory_numbers):\n",
    "  print(item)\n",
    "\n",
    "# looping and unpacking the variables\n",
    "for item_name, item_qty in zip(inventory_names, inventory_numbers):\n",
    "  print(item_name)\n",
    "  print(item_qty)\n",
    "\n",
    "# using fstring to enhance presentation of the data\n",
    "for item_name, item_qty in zip(inventory_names, inventory_numbers):\n",
    "  print(f\"{item_name} current inventory: {item_qty}\")\n",
    "  "
   ]
  },
  {
   "attachments": {},
   "cell_type": "markdown",
   "metadata": {},
   "source": [
    "## Enumerate function\n",
    "\n",
    "Enumerate takes a list as an input and produces a tuple with the index, and the item from a list\n",
    "\n",
    "You can also use variable unpacking to capture the index and the item from a list in a for loop"
   ]
  },
  {
   "cell_type": "code",
   "execution_count": 12,
   "metadata": {},
   "outputs": [
    {
     "name": "stdout",
     "output_type": "stream",
     "text": [
      "[(0, 'Screws'), (1, 'Wheels'), (2, 'Metal parts'), (3, 'Rubber bits'), (4, 'Screwdrivers'), (5, 'Wood')]\n",
      "(0, 'Screws')\n",
      "(1, 'Wheels')\n",
      "(2, 'Metal parts')\n",
      "(3, 'Rubber bits')\n",
      "(4, 'Screwdrivers')\n",
      "(5, 'Wood')\n",
      "0: Screws\n",
      "1: Wheels\n",
      "2: Metal parts\n",
      "3: Rubber bits\n",
      "halfway done!\n",
      "4: Screwdrivers\n",
      "5: Wood\n"
     ]
    }
   ],
   "source": [
    "print(list(enumerate(inventory_names)))\n",
    "\n",
    "# enumerate function - get the current index\n",
    "for thing in enumerate(inventory_names):\n",
    "  print(thing)\n",
    "\n",
    "# unpacking the index and the item with enumerate\n",
    "for index, thing in enumerate(inventory_names):\n",
    "  print(f\"{index}: {thing}\")\n",
    "  if index == len(inventory_names) // 2:\n",
    "    print('halfway done!')\n"
   ]
  },
  {
   "cell_type": "code",
   "execution_count": 23,
   "metadata": {},
   "outputs": [
    {
     "name": "stdout",
     "output_type": "stream",
     "text": [
      "[(0, ('Screws', 43)), (1, ('Wheels', 12)), (2, ('Metal parts', 95)), (3, ('Rubber bits', 421)), (4, ('Screwdrivers', 23)), (5, ('Wood', 43))]\n",
      "Screws [id: 0] - inventory: 43\n",
      "Wheels [id: 1] - inventory: 12\n",
      "Metal parts [id: 2] - inventory: 95\n",
      "Rubber bits [id: 3] - inventory: 421\n",
      "Screwdrivers [id: 4] - inventory: 23\n",
      "Wood [id: 5] - inventory: 43\n"
     ]
    }
   ],
   "source": [
    "# combine zip and enumerate to get 'Screws [id:0] - inventory: 43'\n",
    "\n",
    "print(list(enumerate(zip(inventory_names, inventory_numbers))))\n",
    "\n",
    "for index, inventory_tuple in enumerate(zip(inventory_names,inventory_numbers)):\n",
    "  print(f\"{inventory_tuple[0]} [id: {index}] - inventory: {inventory_tuple[1]}\")"
   ]
  },
  {
   "attachments": {},
   "cell_type": "markdown",
   "metadata": {},
   "source": [
    "## List Comprehension\n",
    "\n",
    "List comprehension is a way to create lists on one line of code.  You can use it to creat simple lists and you can use it to manipulate existing lists.\n",
    "\n",
    "Example you could creat a list from 0 to 99 with the following code:\n",
    "\n",
    "```\n",
    "my_list[]\n",
    "for num in range(0,100)\n",
    "  my_list.append(num)\n",
    "```\n",
    "This can be replaced with the following\n",
    "\n",
    "`my_list = [num for num in range(0,100)]`\n",
    "\n",
    "You can also perform math and calculations with the first num position of the line\n",
    "\n"
   ]
  },
  {
   "cell_type": "code",
   "execution_count": 25,
   "metadata": {},
   "outputs": [
    {
     "name": "stdout",
     "output_type": "stream",
     "text": [
      "[0, 2, 4, 6, 8, 10, 12, 14, 16, 18, 20, 22, 24, 26, 28, 30, 32, 34, 36, 38, 40, 42, 44, 46, 48, 50, 52, 54, 56, 58, 60, 62, 64, 66, 68, 70, 72, 74, 76, 78, 80, 82, 84, 86, 88, 90, 92, 94, 96, 98, 100, 102, 104, 106, 108, 110, 112, 114, 116, 118, 120, 122, 124, 126, 128, 130, 132, 134, 136, 138, 140, 142, 144, 146, 148, 150, 152, 154, 156, 158, 160, 162, 164, 166, 168, 170, 172, 174, 176, 178, 180, 182, 184, 186, 188, 190, 192, 194, 196, 198]\n"
     ]
    }
   ],
   "source": [
    "my_list = [num * 2 for num in range(0,100)]\n",
    "\n",
    "print(my_list)"
   ]
  },
  {
   "attachments": {},
   "cell_type": "markdown",
   "metadata": {},
   "source": [
    "### List comprehension with a ternary operator\n",
    "\n",
    "`my_list = [num for num in range(0,100) if num < 10]` else will not work in with this syntax\n",
    "\n",
    "or \n",
    "\n",
    "`my_list = [num if num < 10 else 0 for num in range(0,100>]` if you need an else\n",
    "\n",
    "You can use this to filter other lists\n",
    "\n"
   ]
  },
  {
   "cell_type": "code",
   "execution_count": 26,
   "metadata": {},
   "outputs": [
    {
     "name": "stdout",
     "output_type": "stream",
     "text": [
      "[(0, 0, 0), (1, 1, 1), (2, 2, 2), (3, 3, 3), (4, 4, 4), (5, 5, 5), (6, 6, 6), (7, 7, 7), (8, 8, 8), (9, 9, 9), (10, 10, 10), (11, 11, 11), (12, 12, 12), (13, 13, 13), (14, 14, 14), (15, 15, 15), (16, 16, 16), (17, 17, 17), (18, 18, 18), (19, 19, 19), 0, 0, 0, 0, 0, 0, 0, 0, 0, 0, 0, 0, 0, 0, 0, 0, 0, 0, 0, 0, 0, 0, 0, 0, 0, 0, 0, 0, 0, 0, 0, 0, 0, 0, 0, 0, 0, 0, 0, 0, 0, 0, 0, 0, 0, 0, 0, 0, 0, 0, 0, 0, 0, 0, 0, 0, 0, 0, 0, 0, 0, 0, 0, 0, 0, 0, 0, 0, 0, 0, 0, 0, 0, 0, 0, 0, 0, 0, 0, 0]\n"
     ]
    }
   ],
   "source": [
    "my_list2 = [(num, num, num) if num < 20 else 0 for num in range(0,100)]\n",
    "\n",
    "print(my_list2)"
   ]
  },
  {
   "cell_type": "code",
   "execution_count": 27,
   "metadata": {},
   "outputs": [
    {
     "name": "stdout",
     "output_type": "stream",
     "text": [
      "[('Wheels', 12), ('Screwdrivers', 23)]\n"
     ]
    }
   ],
   "source": [
    "inventory_names = ['Screws', 'Wheels', 'Metal parts', 'Rubber bits', 'Screwdrivers', 'Wood']\n",
    "inventory_numbers = [43, 12, 95, 421, 23, 43]\n",
    "replenish_list = [(name, number) for name, number in zip(inventory_names, inventory_numbers) if number < 25 ]\n",
    "\n",
    "print(replenish_list)"
   ]
  },
  {
   "cell_type": "code",
   "execution_count": 33,
   "metadata": {},
   "outputs": [
    {
     "name": "stdout",
     "output_type": "stream",
     "text": [
      "[(0, 0), (1, 0), (2, 0), (3, 0), (4, 0)]\n",
      "[(0, 1), (1, 1), (2, 1), (3, 1), (4, 1)]\n",
      "[(0, 2), (1, 2), (2, 2), (3, 2), (4, 2)]\n",
      "[(0, 3), (1, 3), (2, 3), (3, 3), (4, 3)]\n",
      "[(0, 4), (1, 4), (2, 4), (3, 4), (4, 4)]\n",
      "[(0, 5), (1, 5), (2, 5), (3, 5), (4, 5)]\n",
      "[(0, 6), (1, 6), (2, 6), (3, 6), (4, 6)]\n",
      "[(0, 7), (1, 7), (2, 7), (3, 7), (4, 7)]\n",
      "[(0, 8), (1, 8), (2, 8), (3, 8), (4, 8)]\n",
      "[(0, 9), (1, 9), (2, 9), (3, 9), (4, 9)]\n"
     ]
    }
   ],
   "source": [
    "# combine list comprehension\n",
    "\n",
    "combined_comp = [[(x,y) for x in range(5)] for y in range(10)]\n",
    "\n",
    "for row in combined_comp:\n",
    "  print(row)"
   ]
  },
  {
   "cell_type": "code",
   "execution_count": 47,
   "metadata": {},
   "outputs": [
    {
     "name": "stdout",
     "output_type": "stream",
     "text": [
      "['H1', 'H2', 'H3', 'H4', 'H5', 'H6', 'H7', 'H8']\n",
      "['G1', 'G2', 'G3', 'G4', 'G5', 'G6', 'G7', 'G8']\n",
      "['F1', 'F2', 'F3', 'F4', 'F5', 'F6', 'F7', 'F8']\n",
      "['E1', 'E2', 'E3', 'E4', 'E5', 'E6', 'E7', 'E8']\n",
      "['D1', 'D2', 'D3', 'D4', 'D5', 'D6', 'D7', 'D8']\n",
      "['C1', 'C2', 'C3', 'C4', 'C5', 'C6', 'C7', 'C8']\n",
      "['B1', 'B2', 'B3', 'B4', 'B5', 'B6', 'B7', 'B8']\n",
      "['A1', 'A2', 'A3', 'A4', 'A5', 'A6', 'A7', 'A8']\n"
     ]
    }
   ],
   "source": [
    "# create the fields for a chess board\n",
    "letters = [letter for letter in 'ABCDEFGH'[::-1]]\n",
    "numbers = [str(number) for number in range(1,9)]\n",
    "\n",
    "\n",
    "chess_board = [[f'{letter}{number}' for number in numbers] for letter in letters]\n",
    "\n",
    "for row in chess_board:\n",
    "  print(row)"
   ]
  },
  {
   "attachments": {},
   "cell_type": "markdown",
   "metadata": {},
   "source": [
    "## Other Comprehension\n",
    "\n",
    "Besides list comprehension, you can also create dict and set comprehension\n",
    "```\n",
    "dict_comp = {num: num for num in range(10)}\n",
    "set_comp = {num for num in range(10)}\n",
    "tuple_comp = tuple(num for num in range(10))\n",
    "\n",
    "```\n",
    "\n"
   ]
  },
  {
   "cell_type": "code",
   "execution_count": 53,
   "metadata": {},
   "outputs": [
    {
     "name": "stdout",
     "output_type": "stream",
     "text": [
      "(0, 1, 2, 3, 4, 5, 6, 7, 8, 9, 10, 11, 12, 13, 14, 15, 16, 17, 18, 19, 20, 21, 22, 23, 24, 25, 26, 27, 28, 29, 30, 31, 32, 33, 34, 35, 36, 37, 38, 39, 40, 41, 42, 43, 44, 45, 46, 47, 48, 49, 50, 51, 52, 53, 54, 55, 56, 57, 58, 59, 60, 61, 62, 63, 64, 65, 66, 67, 68, 69, 70, 71, 72, 73, 74, 75, 76, 77, 78, 79, 80, 81, 82, 83, 84, 85, 86, 87, 88, 89, 90, 91, 92, 93, 94, 95, 96, 97, 98, 99)\n"
     ]
    }
   ],
   "source": [
    "set_comp = {num for num in range(100)}\n",
    "dict_comp = {num: num**2 for num in range(100)}\n",
    "tuple_comp = tuple((num for num in range(100)))\n",
    "print (tuple_comp)"
   ]
  },
  {
   "cell_type": "code",
   "execution_count": 57,
   "metadata": {},
   "outputs": [
    {
     "name": "stdout",
     "output_type": "stream",
     "text": [
      "{'A': [12345], 'B': [12345], 'C': [12345], 'D': [12345], 'E': [12345]}\n"
     ]
    }
   ],
   "source": [
    "# create a dictionary with the keys 'A', 'B', 'C', 'D', and 'E'\n",
    "# eah key should ahve a list as a value wit the values [1,2,3,4,5]\n",
    "\n",
    "dict1 = {letter: [12345] for letter in 'ABCDE'}\n",
    "print(dict1)"
   ]
  },
  {
   "attachments": {},
   "cell_type": "markdown",
   "metadata": {},
   "source": [
    "## Passing functions as arguments\n",
    "\n",
    "Example:\n",
    "\n",
    "`sorted(iterable, function)`\n",
    "\n",
    "The function determines how the iterable will be sorted"
   ]
  },
  {
   "cell_type": "code",
   "execution_count": 3,
   "metadata": {},
   "outputs": [
    {
     "name": "stdout",
     "output_type": "stream",
     "text": [
      "[5, 4, 3, 2, 1]\n",
      "[('a', 3), ('d', 5), ('c', 6), ('b', 10)]\n"
     ]
    }
   ],
   "source": [
    "list1 = [4,2,3,1,5]\n",
    "\n",
    "print(sorted(list1, reverse = True))\n",
    "\n",
    "list2 = [('a',3), ('b', 10), ('c', 6), ('d',5)]\n",
    "\n",
    "def sort_function(item) -> int:\n",
    "    return item[1] # tells python to sort by the second position of the tuple\n",
    "\n",
    "print(sorted(list2, key = sort_function))"
   ]
  },
  {
   "cell_type": "code",
   "execution_count": 4,
   "metadata": {},
   "outputs": [],
   "source": [
    "### Passing lambdas into functions"
   ]
  },
  {
   "cell_type": "code",
   "execution_count": 5,
   "metadata": {},
   "outputs": [
    {
     "name": "stdout",
     "output_type": "stream",
     "text": [
      "[('a', 3), ('d', 5), ('c', 6), ('b', 10)]\n"
     ]
    }
   ],
   "source": [
    "print(sorted(list2, key = lambda item: item[1]))"
   ]
  },
  {
   "cell_type": "code",
   "execution_count": 11,
   "metadata": {},
   "outputs": [
    {
     "name": "stdout",
     "output_type": "stream",
     "text": [
      "[('Screws', 43), ('Wheels', 12), ('Metal parts', 95), ('Rubber bits', 421), ('Screwdrivers', 23), ('Wood', 43)]\n",
      "[('Wheels', 12), ('Screwdrivers', 23), ('Screws', 43), ('Wood', 43), ('Metal parts', 95), ('Rubber bits', 421)]\n",
      "[('Wood', 43), ('Screws', 43), ('Wheels', 12), ('Metal parts', 95), ('Rubber bits', 421), ('Screwdrivers', 23)]\n"
     ]
    }
   ],
   "source": [
    "inventory_names = ['Screws', 'Wheels', 'Metal parts', 'Rubber bits', 'Screwdrivers', 'Wood']\n",
    "inventory_numbers = [43, 12, 95, 421, 23, 43]\n",
    "combined_list = list(zip(inventory_names, inventory_numbers))\n",
    "print(combined_list)\n",
    "\n",
    "#  sort this list by inventory numbers\n",
    "print(sorted(combined_list, key = lambda item: item[1]))\n",
    "#  sort the list by length of the inventory name\n",
    "print(sorted(combined_list, key = lambda item:len(item[0])))\n"
   ]
  },
  {
   "attachments": {},
   "cell_type": "markdown",
   "metadata": {},
   "source": [
    "### Map and Filter\n",
    "\n",
    "`map(key, iterable)`\n"
   ]
  },
  {
   "cell_type": "code",
   "execution_count": 13,
   "metadata": {},
   "outputs": [
    {
     "name": "stdout",
     "output_type": "stream",
     "text": [
      "[1, 4, 9, 16, 25]\n"
     ]
    }
   ],
   "source": [
    "my_list3 = [1,2,3,4,5]\n",
    "# map - changes values ith a function inside of a iterable\n",
    "def power_function(num):\n",
    "    return num ** 2\n",
    "\n",
    "map(power_function, my_list3)\n",
    "print(list(map(power_function, my_list3)))"
   ]
  },
  {
   "attachments": {},
   "cell_type": "markdown",
   "metadata": {},
   "source": [
    "### Map with lambda"
   ]
  },
  {
   "cell_type": "code",
   "execution_count": 14,
   "metadata": {},
   "outputs": [
    {
     "name": "stdout",
     "output_type": "stream",
     "text": [
      "[1, 4, 9, 16, 25]\n"
     ]
    }
   ],
   "source": [
    "print(list(map(lambda num:num ** 2, my_list3)))"
   ]
  },
  {
   "attachments": {},
   "cell_type": "markdown",
   "metadata": {},
   "source": [
    "### Filter - filters out values from a condition\n",
    "filter(key, iterable)"
   ]
  },
  {
   "cell_type": "code",
   "execution_count": 16,
   "metadata": {},
   "outputs": [
    {
     "name": "stdout",
     "output_type": "stream",
     "text": [
      "[1, 2, 3]\n",
      "[1, 2, 3]\n"
     ]
    }
   ],
   "source": [
    "def get_below_4(num):\n",
    "    if num < 4:\n",
    "        return True\n",
    "    else:\n",
    "        False\n",
    "\n",
    "print(list(filter(get_below_4, my_list3)))\n",
    "\n",
    "# Filter with Lambda\n",
    "\n",
    "print(list(filter(lambda num: num < 4, my_list3)))"
   ]
  },
  {
   "cell_type": "code",
   "execution_count": 20,
   "metadata": {},
   "outputs": [
    {
     "name": "stdout",
     "output_type": "stream",
     "text": [
      "[1, 4, 9, 16, 25]\n",
      "[1, 2, 3]\n"
     ]
    }
   ],
   "source": [
    "# Do the above with a list comprehension\n",
    "# print(list(map(lambda num:num ** 2, my_list3)))\n",
    "print([num ** 2 for num in my_list3])\n",
    "\n",
    "# print(list(filter(lambda num: num < 4, my_list3)))\n",
    "print([num for num in my_list3 if num < 4])\n"
   ]
  },
  {
   "attachments": {},
   "cell_type": "markdown",
   "metadata": {},
   "source": [
    "## File Handling\n",
    "\n",
    "Python can open simple files like .txt files for example\n",
    "\n",
    "Python can acutally open nearly any file but often you need external modules\n",
    "\n",
    "If the file is not in the same folder as the Python file you need to set the path with `open('../some_folder/test.txt')` as an example\n",
    "\n",
    "`write('some_file.txt', a)` the second argument takes 'a' for append this will add to the end of the file, 'w' for write this will over write the file, 'r' will read the file only\n"
   ]
  },
  {
   "cell_type": "code",
   "execution_count": 25,
   "metadata": {},
   "outputs": [
    {
     "name": "stdout",
     "output_type": "stream",
     "text": [
      "['This is a text document\\n', 'Here is another line\\n', 'Some numbers: 123, 55,1337\\n', 'The end']\n",
      "This is a text document\n",
      "\n",
      "Here is another line\n",
      "\n",
      "Some numbers: 123, 55,1337\n",
      "\n",
      "The end\n"
     ]
    }
   ],
   "source": [
    "# open and close it manually\n",
    "\n",
    "file = open('test.txt')\n",
    "print(list(file))\n",
    "file.close()\n",
    "\n",
    "# open and close it automatically\n",
    "with open('test.txt') as file:\n",
    "    # print(file.read())\n",
    "    for line in list(file):\n",
    "        print(line)"
   ]
  },
  {
   "cell_type": "code",
   "execution_count": 26,
   "metadata": {},
   "outputs": [],
   "source": [
    "# write some file\n",
    "with open('test.txt', 'a') as file:\n",
    "    file.write('\\nXXXXWrite some more text XXXXX')"
   ]
  },
  {
   "cell_type": "code",
   "execution_count": 36,
   "metadata": {},
   "outputs": [],
   "source": [
    "# create a new text file and draw a tree in it\n",
    "\n",
    "tree_string = '''  \n",
    "  x\n",
    " xxx\n",
    "xxxxx\n",
    "  x\n",
    "  x\n",
    "  x\n",
    "'''\n",
    "\n",
    "with open('tree.txt','w') as tree_file:\n",
    "    tree_file.write(tree_string)\n"
   ]
  },
  {
   "attachments": {},
   "cell_type": "markdown",
   "metadata": {},
   "source": [
    "### Deleting with Python\n",
    "\n",
    "Python can delete things with the `del` keyword\n",
    "\n",
    "This would remove variables but you rerely use it that way\n",
    "\n",
    "In most cases, you only delete values inside of lists"
   ]
  },
  {
   "cell_type": "code",
   "execution_count": 42,
   "metadata": {},
   "outputs": [
    {
     "name": "stdout",
     "output_type": "stream",
     "text": [
      "[1, 3]\n",
      "[1]\n",
      "[]\n",
      "[]\n"
     ]
    }
   ],
   "source": [
    "a = 1\n",
    "del a\n",
    "# print(a) will cause an error as a doesn't exsist\n",
    "\n",
    "# remove items from a list\n",
    "a = [1,2,3]\n",
    "\n",
    "# del (removes item by index)\n",
    "del a[1]\n",
    "print(a)\n",
    "\n",
    "# remove an itm by value\n",
    "a.remove(3)\n",
    "print(a)\n",
    "\n",
    "# pop\n",
    "a.pop(-1)\n",
    "print(a)\n",
    "\n",
    "# clear the entire list\n",
    "a.clear()\n",
    "print(a)"
   ]
  },
  {
   "cell_type": "code",
   "execution_count": null,
   "metadata": {},
   "outputs": [],
   "source": []
  }
 ],
 "metadata": {
  "kernelspec": {
   "display_name": "Python 3",
   "language": "python",
   "name": "python3"
  },
  "language_info": {
   "codemirror_mode": {
    "name": "ipython",
    "version": 3
   },
   "file_extension": ".py",
   "mimetype": "text/x-python",
   "name": "python",
   "nbconvert_exporter": "python",
   "pygments_lexer": "ipython3",
   "version": "3.11.1"
  },
  "orig_nbformat": 4,
  "vscode": {
   "interpreter": {
    "hash": "aee8b7b246df8f9039afb4144a1f6fd8d2ca17a180786b69acc140d282b71a49"
   }
  }
 },
 "nbformat": 4,
 "nbformat_minor": 2
}
