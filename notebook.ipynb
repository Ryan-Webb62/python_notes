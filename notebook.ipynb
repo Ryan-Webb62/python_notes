{
 "cells": [
  {
   "attachments": {},
   "cell_type": "markdown",
   "metadata": {},
   "source": [
    "# Demo Juptyer Notebook\n",
    "\n",
    "This notebook will exemplify **some** common Python Jupyter Notebook use cases"
   ]
  },
  {
   "cell_type": "code",
   "execution_count": 2,
   "metadata": {},
   "outputs": [
    {
     "name": "stdout",
     "output_type": "stream",
     "text": [
      "Hello Mark\n"
     ]
    }
   ],
   "source": [
    "user: str = 'Mark'\n",
    "print(f\"Hello {user}\")"
   ]
  },
  {
   "attachments": {},
   "cell_type": "markdown",
   "metadata": {},
   "source": [
    "## Formatting Markdown Notes\n",
    "\n",
    "* You can have lists\n",
    "* you can have [Links - such as to a cheat sheet](https://www.markdownguide.org/cheat-sheet/)"
   ]
  },
  {
   "cell_type": "code",
   "execution_count": 3,
   "metadata": {},
   "outputs": [
    {
     "name": "stdout",
     "output_type": "stream",
     "text": [
      "Another referenct to Mark in this cell\n"
     ]
    }
   ],
   "source": [
    "print(f\"Another referenct to {user} in this cell\")"
   ]
  },
  {
   "attachments": {},
   "cell_type": "markdown",
   "metadata": {},
   "source": [
    "## Uesful keyboard shortcuts\n",
    "\n",
    "1. `command + return` Execute a cell and leave the cursor focus in that cell\n",
    "2. `shift + return` Execute a cell and move to the next cell or create a new cell at the end"
   ]
  },
  {
   "cell_type": "code",
   "execution_count": 4,
   "metadata": {},
   "outputs": [
    {
     "name": "stdout",
     "output_type": "stream",
     "text": [
      "Some important computation....\n"
     ]
    },
    {
     "data": {
      "text/plain": [
       "1110.0"
      ]
     },
     "execution_count": 4,
     "metadata": {},
     "output_type": "execute_result"
    }
   ],
   "source": [
    "print(\"Some important computation....\")\n",
    "total: float = 110.0 + 1000.0\n",
    "total"
   ]
  },
  {
   "attachments": {},
   "cell_type": "markdown",
   "metadata": {},
   "source": [
    "## Expressions written as the last line of a cell are automatically printed\n",
    "This is very handy for not needing to call the `print` function"
   ]
  },
  {
   "attachments": {},
   "cell_type": "markdown",
   "metadata": {},
   "source": [
    "## Example of importing a module"
   ]
  },
  {
   "cell_type": "code",
   "execution_count": 5,
   "metadata": {},
   "outputs": [
    {
     "data": {
      "text/plain": [
       "23"
      ]
     },
     "execution_count": 5,
     "metadata": {},
     "output_type": "execute_result"
    }
   ],
   "source": [
    "import notebook_helpers\n",
    "notebook_helpers.add_two_ints(3,20)"
   ]
  },
  {
   "cell_type": "code",
   "execution_count": 6,
   "metadata": {},
   "outputs": [
    {
     "data": {
      "text/plain": [
       "4"
      ]
     },
     "execution_count": 6,
     "metadata": {},
     "output_type": "execute_result"
    }
   ],
   "source": [
    "from notebook_helpers import add_two_ints\n",
    "add_two_ints(1,3)"
   ]
  },
  {
   "attachments": {},
   "cell_type": "markdown",
   "metadata": {},
   "source": [
    "## Working with dates\n",
    "Using the datetime lib"
   ]
  },
  {
   "cell_type": "code",
   "execution_count": 7,
   "metadata": {},
   "outputs": [
    {
     "name": "stdout",
     "output_type": "stream",
     "text": [
      "Pull a day from the date\n",
      "29\n",
      "Pull a minute from the date\n",
      "30\n",
      "Pull the time from the date\n",
      "20:30:21\n",
      "Pull date out\n",
      "2011-10-29\n",
      "Format a date into a string\n",
      "2011-10-29 20:30\n"
     ]
    }
   ],
   "source": [
    "# Import datetime functions\n",
    "from datetime import datetime, date, time\n",
    "\n",
    "# initialize a variable with a date \n",
    "dt = datetime(2011,10,29,20,30,21)\n",
    "\n",
    "print(\"Pull a day from the date\")\n",
    "print(dt.day)\n",
    "print(\"Pull a minute from the date\")\n",
    "print(dt.minute)\n",
    "print(\"Pull the time from the date\")\n",
    "print(dt.time())\n",
    "print(\"Pull date out\")\n",
    "print(dt.date())\n",
    "print(\"Format a date into a string\")\n",
    "print(dt.strftime(\"%Y-%m-%d %H:%M\"))\n"
   ]
  },
  {
   "attachments": {},
   "cell_type": "markdown",
   "metadata": {},
   "source": [
    "### Math with dates"
   ]
  },
  {
   "cell_type": "code",
   "execution_count": 8,
   "metadata": {},
   "outputs": [
    {
     "name": "stdout",
     "output_type": "stream",
     "text": [
      "The delta between dt and dt2 is: 17 days, 1:59:39\n",
      "<class 'datetime.timedelta'>\n"
     ]
    },
    {
     "data": {
      "text/plain": [
       "datetime.timedelta(days=17, seconds=7179)"
      ]
     },
     "execution_count": 8,
     "metadata": {},
     "output_type": "execute_result"
    }
   ],
   "source": [
    "dt2 = datetime(2011,11,15,22,30)\n",
    "delta = dt2 - dt\n",
    "print(f\"The delta between dt and dt2 is: {delta}\")\n",
    "print(type(delta))\n",
    "delta"
   ]
  },
  {
   "attachments": {},
   "cell_type": "markdown",
   "metadata": {},
   "source": [
    "#### You can add a datetime + a datetime.timedelta together to make a new date"
   ]
  },
  {
   "cell_type": "code",
   "execution_count": 9,
   "metadata": {},
   "outputs": [
    {
     "data": {
      "text/plain": [
       "datetime.datetime(2011, 11, 15, 22, 30)"
      ]
     },
     "execution_count": 9,
     "metadata": {},
     "output_type": "execute_result"
    }
   ],
   "source": [
    "dt+ delta"
   ]
  },
  {
   "attachments": {},
   "cell_type": "markdown",
   "metadata": {},
   "source": [
    "## Flow Control"
   ]
  },
  {
   "attachments": {},
   "cell_type": "markdown",
   "metadata": {},
   "source": [
    "#### Skipping a value in the data"
   ]
  },
  {
   "cell_type": "code",
   "execution_count": 10,
   "metadata": {},
   "outputs": [
    {
     "name": "stdout",
     "output_type": "stream",
     "text": [
      "12\n"
     ]
    }
   ],
   "source": [
    "sequence = [1,2,None, 4, None, 5]\n",
    "total =0\n",
    "\n",
    "# Skipping missing values in data\n",
    "for value in sequence:\n",
    "    if value == None:\n",
    "        continue\n",
    "    total+= value\n",
    "\n",
    "print(total)"
   ]
  },
  {
   "attachments": {},
   "cell_type": "markdown",
   "metadata": {},
   "source": [
    "#### Exiting once a value is reached\n",
    "The break keyword only terminate the innermost for loop: any outer for loops will continue to run"
   ]
  },
  {
   "cell_type": "code",
   "execution_count": 11,
   "metadata": {},
   "outputs": [
    {
     "name": "stdout",
     "output_type": "stream",
     "text": [
      "13\n"
     ]
    }
   ],
   "source": [
    "sequence2 = [1,2,0,4,6,5,2,1]\n",
    "total_until_5 = 0\n",
    "for value in sequence2:\n",
    "    if value == 5:\n",
    "        break\n",
    "    total_until_5+=value\n",
    "print(total_until_5)"
   ]
  },
  {
   "cell_type": "code",
   "execution_count": 12,
   "metadata": {},
   "outputs": [
    {
     "name": "stdout",
     "output_type": "stream",
     "text": [
      "(0, 0)\n",
      "(1, 0)\n",
      "(1, 1)\n",
      "(2, 0)\n",
      "(2, 1)\n",
      "(2, 2)\n",
      "(3, 0)\n",
      "(3, 1)\n",
      "(3, 2)\n",
      "(3, 3)\n"
     ]
    }
   ],
   "source": [
    "for i in range(4):\n",
    "    for j in range(4):\n",
    "        if j > i:\n",
    "            break\n",
    "        print((i,j))"
   ]
  },
  {
   "attachments": {},
   "cell_type": "markdown",
   "metadata": {},
   "source": [
    "Pass is the \"no-op\" or \"do nothing\" statement in Python.  It can be used in blocks where no action is to be taken or as a placeholder for code not yet implmented."
   ]
  },
  {
   "cell_type": "code",
   "execution_count": 13,
   "metadata": {},
   "outputs": [
    {
     "name": "stdout",
     "output_type": "stream",
     "text": [
      "positive!\n"
     ]
    }
   ],
   "source": [
    "x = 3\n",
    "\n",
    "if x < 0:\n",
    "    print(\"nagtive!\")\n",
    "elif x == 0:\n",
    "    # TODO: put something smart here\n",
    "    pass\n",
    "else:\n",
    "    print(\"positive!\")"
   ]
  },
  {
   "cell_type": "code",
   "execution_count": 14,
   "metadata": {},
   "outputs": [
    {
     "name": "stdout",
     "output_type": "stream",
     "text": [
      "a=1, b=2, c=3\n",
      "a=4, b=5, c=6\n",
      "a=7, b=8, c=9\n"
     ]
    }
   ],
   "source": [
    "seq = [(1,2,3),(4,5,6),(7,8,9)]\n",
    "\n",
    "for a,b,c in seq:\n",
    "    print(f'a={a}, b={b}, c={c}')"
   ]
  },
  {
   "attachments": {},
   "cell_type": "markdown",
   "metadata": {},
   "source": [
    "## Working with lists\n",
    "Unlike tuples lists are mutable"
   ]
  },
  {
   "cell_type": "code",
   "execution_count": 15,
   "metadata": {},
   "outputs": [
    {
     "name": "stdout",
     "output_type": "stream",
     "text": [
      "['foo', 'bar', 'baz']\n",
      "['foo', 'peekaboo', 'baz']\n",
      "['foo', 'peekaboo', 'baz', 'dwarf']\n",
      "['foo', 'red', 'peekaboo', 'baz', 'dwarf']\n",
      "['foo', 'red', 'baz', 'dwarf']\n",
      "['foo', 'red', 'baz', 'dwarf', 'foo']\n",
      "['red', 'baz', 'dwarf', 'foo']\n"
     ]
    }
   ],
   "source": [
    "a_list=[2,3,7,None]\n",
    "tup = (\"foo\", \"bar\", \"baz\")\n",
    "# convert the tuple to a list\n",
    "b_list = list(tup)\n",
    "print(b_list)\n",
    "# update element 1 in the list\n",
    "b_list[1] = \"peekaboo\"\n",
    "print(b_list)\n",
    "# appending\n",
    "b_list.append(\"dwarf\")\n",
    "print(b_list)\n",
    "# inserting\n",
    "b_list.insert(1,\"red\")\n",
    "print(b_list)\n",
    "# removing item from a list with pop\n",
    "b_list.pop(2)\n",
    "print(b_list)\n",
    "# removing item from a list with remove\n",
    "b_list.append(\"foo\")\n",
    "print(b_list)\n",
    "\n",
    "b_list.remove(\"foo\")\n",
    "\n",
    "print(b_list)\n"
   ]
  },
  {
   "attachments": {},
   "cell_type": "markdown",
   "metadata": {},
   "source": [
    "#### Checking content of a list"
   ]
  },
  {
   "cell_type": "code",
   "execution_count": 16,
   "metadata": {},
   "outputs": [
    {
     "name": "stdout",
     "output_type": "stream",
     "text": [
      "True\n",
      "False\n"
     ]
    }
   ],
   "source": [
    "print(\"dwarf\" in b_list)\n",
    "print(\"dwarf\" not in b_list)"
   ]
  },
  {
   "attachments": {},
   "cell_type": "markdown",
   "metadata": {},
   "source": [
    "#### List Slicing (Works with strings and tuples also)\n",
    "\n",
    "syntax: `some_list[start:end:step]`\n",
    "\n",
    "You can leave values blank: `some_list[:8:1}` would start at the begining of the list and step to the 8th value by 1\n",
    "\n",
    "This can also be useful if you don't know the length of the list `some_list[::2]` would start at the begining index and finish at the end stepping by 2\n",
    "\n",
    "You can slice a list with bracket notation as follows\n",
    "`some_list[0:8:2]`: \n",
    "- 0 references the starting index position\n",
    "- 8 references the ending index position\n",
    "- 2 references the index step size\n",
    "\n",
    "However, python only goes **UP TO** the end, it does **NOT** include it\n",
    "\n",
    "You can also reverse the direction of the indexing\n",
    "`some_list[8:0:2]`:\n",
    "- 8 will be the starting index\n",
    "- 0 will be the ending index\n",
    "- -1 will be the index value by one from 8 up to 0\n",
    "\n",
    "\n",
    "Python also always returns the value as a list even if it is empty or has one value"
   ]
  },
  {
   "cell_type": "code",
   "execution_count": 17,
   "metadata": {},
   "outputs": [
    {
     "name": "stdout",
     "output_type": "stream",
     "text": [
      "[0, 2, 4, 6]\n",
      "[1]\n",
      "[8, 7, 6, 5, 4, 3, 2, 1]\n"
     ]
    }
   ],
   "source": [
    "some_list = [0,1,2,3,4,5,6,7,8,9,10]\n",
    "# return index values from 0 up to 8 stepping by 2\n",
    "print(some_list[0:8:2])\n",
    "# will only print index item 1 not including 2\n",
    "print(some_list[1:2])\n",
    "# reversing the indexing\n",
    "print(some_list[8:0:-1])"
   ]
  },
  {
   "attachments": {},
   "cell_type": "markdown",
   "metadata": {},
   "source": [
    "#### Unpacking lists and tuples\n",
    "\n",
    "`a,b = (10,5)` or `a,b = [10,5]`\n",
    "\n",
    "This only works if you have the same number of variables as you have items in the list or tuples"
   ]
  },
  {
   "cell_type": "code",
   "execution_count": 18,
   "metadata": {},
   "outputs": [
    {
     "name": "stdout",
     "output_type": "stream",
     "text": [
      "10\n",
      "5\n",
      "20\n",
      "Hello\n",
      "Sword\n"
     ]
    }
   ],
   "source": [
    "a, b = (10,5)\n",
    "print(a)\n",
    "print(b)\n",
    "\n",
    "c, d = [20, 'Hello']\n",
    "print(c)\n",
    "print(d)\n",
    "\n",
    "health, energy, weapon = 100, 50, 'Sword'\n",
    "print(weapon)\n"
   ]
  },
  {
   "cell_type": "code",
   "execution_count": 19,
   "metadata": {},
   "outputs": [
    {
     "name": "stdout",
     "output_type": "stream",
     "text": [
      "test 10\n"
     ]
    }
   ],
   "source": [
    "value_1 = 10\n",
    "value_2 = 'test'\n",
    "\n",
    "# switching the variable values\n",
    "value_2, value_1 = value_1, value_2\n",
    "print(value_1,value_2)"
   ]
  },
  {
   "attachments": {},
   "cell_type": "markdown",
   "metadata": {},
   "source": [
    "#### Strings, lists, and tupels\n",
    "\n",
    "All are very similar and are essentially containers"
   ]
  },
  {
   "cell_type": "code",
   "execution_count": 20,
   "metadata": {},
   "outputs": [
    {
     "name": "stdout",
     "output_type": "stream",
     "text": [
      "['this', 'is', 'a', 'test']\n",
      "['t', 'h', 'i', 's', ' ', 'i', 's', ' ', 'a', ' ', 't', 'e', 's', 't']\n",
      "('t', 'h', 'i', 's', ' ', 'i', 's', ' ', 'a', ' ', 't', 'e', 's', 't')\n",
      "one two three four\n",
      "1234\n"
     ]
    }
   ],
   "source": [
    "test_string = 'this is a test'\n",
    "test_list = [1,2,3,4]\n",
    "\n",
    "# turning a string into a list / tuple\n",
    "print(test_string.split())\n",
    "print(list(test_string))\n",
    "print(tuple(test_string))\n",
    "\n",
    "# turn a list / tuple into a string - must be a tuple or list of string type\n",
    "print(' '.join(['one', 'two', 'three', 'four']))\n",
    "# ' '.join(test_list) will lead to an error as test_list is a list of Ints\n",
    "exercise = str(test_list).strip('[').strip(']').replace(',', '').replace(' ','' )\n",
    "print(exercise)"
   ]
  },
  {
   "attachments": {},
   "cell_type": "markdown",
   "metadata": {},
   "source": [
    "#### Dictionaries"
   ]
  },
  {
   "attachments": {},
   "cell_type": "markdown",
   "metadata": {},
   "source": [
    "Dictionaries are organized containers that have a key and value pair.  You can't have duplicate keys.\n",
    "\n",
    "`{'key':'value', 1:[1,2,4]}`"
   ]
  },
  {
   "cell_type": "code",
   "execution_count": 23,
   "metadata": {},
   "outputs": [
    {
     "name": "stdout",
     "output_type": "stream",
     "text": [
      "{'A': 123, 'B': [1, 2, 3], 1: True}\n",
      "dict_values([123, [1, 2, 3], True])\n",
      "dict_keys(['A', 'B', 1])\n",
      "dict_items([('A', 123), ('B', [1, 2, 3]), (1, True)])\n",
      "3\n"
     ]
    }
   ],
   "source": [
    "test_dict = {'A': 123, 'B':[1,2,3], 1: True}\n",
    "print(test_dict)\n",
    "print(test_dict.values())\n",
    "print(test_dict.keys())\n",
    "print(test_dict.items())\n",
    "print(len(test_dict))"
   ]
  },
  {
   "attachments": {},
   "cell_type": "markdown",
   "metadata": {},
   "source": [
    "### Indexing with Dictionaries\n",
    "\n",
    "`my_dict{'a':1, 'b':2, 'c':3}`\n",
    "\n",
    "`my_dict['a']` returns 1\n",
    "\n",
    "`my_dict.get('a')` returns 1"
   ]
  },
  {
   "cell_type": "code",
   "execution_count": 24,
   "metadata": {},
   "outputs": [
    {
     "name": "stdout",
     "output_type": "stream",
     "text": [
      "123\n",
      "123\n"
     ]
    }
   ],
   "source": [
    "# indexting with dict\n",
    "print(test_dict['A']) \n",
    "# .get won't crash if the value is not found\n",
    "print(test_dict.get('A'))"
   ]
  },
  {
   "attachments": {},
   "cell_type": "markdown",
   "metadata": {},
   "source": [
    "### Adding values to a dictionary"
   ]
  },
  {
   "cell_type": "code",
   "execution_count": 25,
   "metadata": {},
   "outputs": [
    {
     "name": "stdout",
     "output_type": "stream",
     "text": [
      "{'A': 123, 'B': [1, 2, 3], 1: True, 'Another key': (1, 2, 3)}\n"
     ]
    }
   ],
   "source": [
    "test_dict.update({'Another key':(1,2,3)})\n",
    "test_dict.update(C = 'test', D = '123')\n",
    "test_dict['E'] = 100\n",
    "print(test_dict)\n"
   ]
  },
  {
   "attachments": {},
   "cell_type": "markdown",
   "metadata": {},
   "source": [
    "### Sets\n",
    "\n",
    "Sets are defined with curly braces like dictionaries but don't have keys\n",
    "\n",
    "Any duplicate value in a set will be deleted\n",
    "\n",
    "Indexting and slicing do not work\n",
    "\n",
    "`my_set = {1,2,3,4,4}`"
   ]
  },
  {
   "cell_type": "code",
   "execution_count": 26,
   "metadata": {},
   "outputs": [
    {
     "name": "stdout",
     "output_type": "stream",
     "text": [
      "4\n",
      "{1, 3, 4, 5}\n"
     ]
    }
   ],
   "source": [
    "my_set = {1,2,3,4,4}\n",
    "\n",
    "# use methods\n",
    "my_set.add(5)\n",
    "my_set.remove(2)\n",
    "\n",
    "print(my_set.pop()) \n",
    "\n",
    "print(len(my_set))\n",
    "print(my_set)"
   ]
  },
  {
   "cell_type": "code",
   "execution_count": 29,
   "metadata": {},
   "outputs": [
    {
     "data": {
      "text/plain": [
       "1"
      ]
     },
     "execution_count": 29,
     "metadata": {},
     "output_type": "execute_result"
    }
   ],
   "source": [
    "# converting the set to a list to be able to index\n",
    "my_set_list = list(my_set)\n",
    "my_set_list[0]"
   ]
  },
  {
   "cell_type": "code",
   "execution_count": null,
   "metadata": {},
   "outputs": [],
   "source": []
  }
 ],
 "metadata": {
  "kernelspec": {
   "display_name": "Python 3",
   "language": "python",
   "name": "python3"
  },
  "language_info": {
   "codemirror_mode": {
    "name": "ipython",
    "version": 3
   },
   "file_extension": ".py",
   "mimetype": "text/x-python",
   "name": "python",
   "nbconvert_exporter": "python",
   "pygments_lexer": "ipython3",
   "version": "3.11.0 (v3.11.0:deaf509e8f, Oct 24 2022, 14:43:23) [Clang 13.0.0 (clang-1300.0.29.30)]"
  },
  "orig_nbformat": 4,
  "vscode": {
   "interpreter": {
    "hash": "aee8b7b246df8f9039afb4144a1f6fd8d2ca17a180786b69acc140d282b71a49"
   }
  }
 },
 "nbformat": 4,
 "nbformat_minor": 2
}
